{
 "cells": [
  {
   "cell_type": "code",
   "execution_count": null,
   "id": "d3623ad7",
   "metadata": {},
   "outputs": [],
   "source": [
    "create database ineuron;\n",
    "use ineuron;\n",
    "create table if not exists product_info(\n",
    "\t\tpr_id int,\n",
    "        product_name varchar(20)\n",
    "\n",
    ");\n",
    "\n",
    "insert into product_info values(1001,'blog'),(1002,'youtube'),(1003,'education');\n",
    "select * from product_info;\n",
    "\n",
    "\n",
    "create table if not\texists product_info_likes(\n",
    "\t\tuser_id int,\n",
    "        pr_id int,\n",
    "        liked_date date\n",
    "\n",
    ");\n",
    "\n",
    "insert into product_info_likes values (1,1001,'2023-08-19'),(2,1003,'2023-01-18'); \n",
    "select * from product_info_likes;\n",
    "\n",
    "-- Query to return ids of the product info that have o likes \n",
    "select pr_id from product_info where pr_id not in (select pr_id from product_info_likes);\n",
    "\n",
    "\n",
    "\n"
   ]
  }
 ],
 "metadata": {
  "kernelspec": {
   "display_name": "Python 3 (ipykernel)",
   "language": "python",
   "name": "python3"
  },
  "language_info": {
   "codemirror_mode": {
    "name": "ipython",
    "version": 3
   },
   "file_extension": ".py",
   "mimetype": "text/x-python",
   "name": "python",
   "nbconvert_exporter": "python",
   "pygments_lexer": "ipython3",
   "version": "3.11.3"
  }
 },
 "nbformat": 4,
 "nbformat_minor": 5
}
