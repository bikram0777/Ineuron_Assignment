{
 "cells": [
  {
   "cell_type": "code",
   "execution_count": null,
   "id": "8ae1623a",
   "metadata": {},
   "outputs": [],
   "source": [
    "\n",
    "\n",
    "\n"
   ]
  },
  {
   "cell_type": "markdown",
   "id": "6030d79d",
   "metadata": {},
   "source": [
    "# 1.What are the two values of the Boolean data type? How do you write them?"
   ]
  },
  {
   "cell_type": "markdown",
   "id": "a8c650f1",
   "metadata": {},
   "source": [
    "The two values for the Boolean datatype are \n",
    "    1. True\n",
    "    2. False\n",
    "    "
   ]
  },
  {
   "cell_type": "markdown",
   "id": "c771c3c3",
   "metadata": {},
   "source": [
    "# 2. What are the three different types of Boolean operators?"
   ]
  },
  {
   "cell_type": "markdown",
   "id": "056f66b4",
   "metadata": {},
   "source": [
    "The three different types of boolean operators are \n",
    "    1. AND(&)\n",
    "    2. OR (|)\n",
    "    3. NOT(!)"
   ]
  },
  {
   "cell_type": "markdown",
   "id": "4dcaea9d",
   "metadata": {},
   "source": [
    "# 3. Make a list of each Boolean operator's truth tables (i.e. every possible combination of Boolean values for the operator and what it evaluate )."
   ]
  },
  {
   "cell_type": "raw",
   "id": "cf9d1edc",
   "metadata": {},
   "source": [
    "AND operator\n",
    "A B Y\n",
    "0 0 0\n",
    "0 1 0\n",
    "1 0 0\n",
    "1 1 1\n",
    "OR operator\n",
    "A B Y\n",
    "0 0 0\n",
    "0 1 1\n",
    "1 0 1\n",
    "1 1 1\n",
    "A and B are inputs and Y is the output\n",
    "NOT operator\n",
    "A Y\n",
    "0 1\n",
    "1 0\n",
    "A is input and Y is the output"
   ]
  },
  {
   "cell_type": "markdown",
   "id": "edfc19d2",
   "metadata": {},
   "source": [
    "# 4. What are the values of the following expressions?\n",
    "(5 > 4) and (3 == 5)\n",
    "not (5 > 4)\n",
    "(5 > 4) or (3 == 5)\n",
    "not ((5 > 4) or (3 == 5))\n",
    "(True and True) and (True == False)\n",
    "(not False) or (not True)"
   ]
  },
  {
   "cell_type": "raw",
   "id": "ae92e495",
   "metadata": {},
   "source": [
    "The Result is as follows:\n",
    "    \n",
    "(5 > 4) and (3 == 5) ====> False\n",
    "not (5 > 4) ===> False\n",
    "(5 > 4) or (3 == 5) ===> True\n",
    "not ((5 > 4) or (3 == 5))===>False\n",
    "(True and True) and (True == False)===> False\n",
    "(not False) or (not True) ===>True"
   ]
  },
  {
   "cell_type": "markdown",
   "id": "d8224fd3",
   "metadata": {},
   "source": [
    "# 5. What are the six comparison operators?"
   ]
  },
  {
   "cell_type": "raw",
   "id": "678740c1",
   "metadata": {},
   "source": [
    "the six comparision operators are:\n",
    "    <\n",
    "    >\n",
    "    <=\n",
    "    >=\n",
    "    ==\n",
    "    !="
   ]
  },
  {
   "cell_type": "markdown",
   "id": "b2775150",
   "metadata": {},
   "source": [
    "# 6. How do you tell the difference between the equal to and assignment operators?Describe a condition and when you would use one."
   ]
  },
  {
   "cell_type": "raw",
   "id": "a4f2cbc5",
   "metadata": {},
   "source": [
    "The assignment operator(=) is used to assign a value eg. a=7\n",
    "The equal to(==) operator is used to compare for equal to eg (2==2)"
   ]
  },
  {
   "cell_type": "markdown",
   "id": "a54b8387",
   "metadata": {},
   "source": [
    "# 7. Identify the three blocks in this code:\n",
    "spam = 0\n",
    "if spam == 10:\n",
    "print('eggs')\n",
    "if spam > 5:\n",
    "print('bacon')\n",
    "else:\n",
    "print('ham')\n",
    "print('spam')\n",
    "print('spam')"
   ]
  },
  {
   "cell_type": "raw",
   "id": "8f139c30",
   "metadata": {},
   "source": [
    "block if\n",
    "    if spam == 10:\n",
    "    print('eggs')\n",
    "if block\n",
    "    if spam > 5:\n",
    "    print('bacon')\n",
    "else block\n",
    "    else:\n",
    "    print('ham')\n",
    "    print('spam')\n",
    "    print('spam')\n",
    "\n",
    "\n",
    "    "
   ]
  },
  {
   "cell_type": "markdown",
   "id": "8fdeabab",
   "metadata": {},
   "source": [
    "# 8. Write code that prints Hello if 1 is stored in spam, prints Howdy if 2 is stored in spam, and prints Greetings! if anything else is stored in spam."
   ]
  },
  {
   "cell_type": "code",
   "execution_count": 8,
   "id": "f2c8b927",
   "metadata": {},
   "outputs": [
    {
     "name": "stdout",
     "output_type": "stream",
     "text": [
      "Greetings\n"
     ]
    }
   ],
   "source": [
    "spam=3\n",
    "if spam==1:\n",
    "    print(\"Hello\")\n",
    "elif spam==2:\n",
    "    print(\"Howdy\")\n",
    "else:\n",
    "    print(\"Greetings\")\n",
    "        \n",
    "        \n",
    "        \n",
    "        "
   ]
  },
  {
   "cell_type": "markdown",
   "id": "4df3e18d",
   "metadata": {},
   "source": [
    "# 9.If your programme is stuck in an endless loop, what keys you’ll press?"
   ]
  },
  {
   "cell_type": "markdown",
   "id": "0482a970",
   "metadata": {},
   "source": [
    "By pressing the 'CTRL + C' key"
   ]
  },
  {
   "cell_type": "markdown",
   "id": "532827bc",
   "metadata": {},
   "source": [
    "# 10. How can you tell the difference between break and continue?"
   ]
  },
  {
   "cell_type": "code",
   "execution_count": 10,
   "id": "425305e1",
   "metadata": {},
   "outputs": [
    {
     "data": {
      "text/plain": [
       "'Break statement takes the flow of control to out of loop if the condition is matched and \\n    the continue statement will make the flow to skip  the statements that is under the continue statement.'"
      ]
     },
     "execution_count": 10,
     "metadata": {},
     "output_type": "execute_result"
    }
   ],
   "source": [
    "'''Break statement takes the flow of control to out of loop if the condition is matched and \n",
    "    the continue statement will make the flow to skip  the statements that is under the continue statement.'''"
   ]
  },
  {
   "cell_type": "markdown",
   "id": "699876a0",
   "metadata": {},
   "source": [
    "# 11. In a for loop, what is the difference between range(10), range(0, 10), and range(0, 10, 1)?"
   ]
  },
  {
   "cell_type": "raw",
   "id": "a90d6955",
   "metadata": {},
   "source": [
    "range(10) will print numbers from 0 to 9. here initial value is by default 0 step is by default 1.\n",
    "Also range(0,10) will print numbers from 0 to 9. here  initial value is 0 and step is by default 1\n",
    "range(0,10,1) will print numbers from 0 to 9. here all three parameters are assignes"
   ]
  },
  {
   "cell_type": "markdown",
   "id": "b29daf3f",
   "metadata": {},
   "source": [
    "# 12. Write a short program that prints the numbers 1 to 10 using a for loop. Then write an equivalent program that prints the numbers 1 to 10 using a while loop."
   ]
  },
  {
   "cell_type": "raw",
   "id": "6f9479d9",
   "metadata": {},
   "source": [
    "for i in range(0,11,1):\n",
    "    print(i)\n",
    "    \n",
    "i=1\n",
    "while(i<=10):\n",
    "    print(i)\n",
    "    i=i+1"
   ]
  },
  {
   "cell_type": "markdown",
   "id": "460f9bd0",
   "metadata": {},
   "source": [
    "# 13. If you had a function named bacon() inside a module named spam, how would you call it after importing spam?"
   ]
  },
  {
   "cell_type": "raw",
   "id": "f4bcab68",
   "metadata": {},
   "source": [
    "by this method:\n",
    "    import spam\n",
    "    spam.bacon()"
   ]
  }
 ],
 "metadata": {
  "kernelspec": {
   "display_name": "Python 3 (ipykernel)",
   "language": "python",
   "name": "python3"
  },
  "language_info": {
   "codemirror_mode": {
    "name": "ipython",
    "version": 3
   },
   "file_extension": ".py",
   "mimetype": "text/x-python",
   "name": "python",
   "nbconvert_exporter": "python",
   "pygments_lexer": "ipython3",
   "version": "3.11.3"
  }
 },
 "nbformat": 4,
 "nbformat_minor": 5
}
