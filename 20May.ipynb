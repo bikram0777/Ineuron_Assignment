{
 "cells": [
  {
   "cell_type": "markdown",
   "id": "ca5bffdc",
   "metadata": {},
   "source": [
    "Q.1. What are keywords in python? Using the keyword library, print all the python keywords."
   ]
  },
  {
   "cell_type": "raw",
   "id": "26913dbe",
   "metadata": {},
   "source": [
    "Keywords are the reserved words which has special meaning in programming."
   ]
  },
  {
   "cell_type": "code",
   "execution_count": 1,
   "id": "16c50b71",
   "metadata": {},
   "outputs": [],
   "source": [
    "import keyword\n"
   ]
  },
  {
   "cell_type": "code",
   "execution_count": 7,
   "id": "633cdf1f",
   "metadata": {},
   "outputs": [
    {
     "data": {
      "text/plain": [
       "['False',\n",
       " 'None',\n",
       " 'True',\n",
       " 'and',\n",
       " 'as',\n",
       " 'assert',\n",
       " 'async',\n",
       " 'await',\n",
       " 'break',\n",
       " 'class',\n",
       " 'continue',\n",
       " 'def',\n",
       " 'del',\n",
       " 'elif',\n",
       " 'else',\n",
       " 'except',\n",
       " 'finally',\n",
       " 'for',\n",
       " 'from',\n",
       " 'global',\n",
       " 'if',\n",
       " 'import',\n",
       " 'in',\n",
       " 'is',\n",
       " 'lambda',\n",
       " 'nonlocal',\n",
       " 'not',\n",
       " 'or',\n",
       " 'pass',\n",
       " 'raise',\n",
       " 'return',\n",
       " 'try',\n",
       " 'while',\n",
       " 'with',\n",
       " 'yield']"
      ]
     },
     "execution_count": 7,
     "metadata": {},
     "output_type": "execute_result"
    }
   ],
   "source": [
    "[keyword for keyword in keyword.kwlist]"
   ]
  },
  {
   "cell_type": "code",
   "execution_count": null,
   "id": "f9e0496e",
   "metadata": {},
   "outputs": [],
   "source": [
    "Q.2. What are the rules to create variables in python?"
   ]
  },
  {
   "cell_type": "raw",
   "id": "88d1c2d0",
   "metadata": {},
   "source": [
    "The rules for variable declarations are as follows:\n",
    "    1. Reserved words can not be used as variable names.\n",
    "    2. Variable names cannot be started with numbers.\n",
    "    3. special symbols except underscore(_) cannot be used while naming variable."
   ]
  },
  {
   "cell_type": "code",
   "execution_count": null,
   "id": "7a655240",
   "metadata": {},
   "outputs": [],
   "source": [
    "Q.3. What are the standards and conventions followed for the nomenclature of variables in\n",
    "python to improve code readability and maintainability?"
   ]
  },
  {
   "cell_type": "code",
   "execution_count": null,
   "id": "dfed71e2",
   "metadata": {},
   "outputs": [],
   "source": [
    "The standards and conventions followed for the nomenclature of variables in python \n",
    "to improve code readibility and maintainibility are as follows:\n",
    "    1. Avoid using keywords as the name of variables.\n",
    "    2. we can use descriptive names like student_name\n",
    "    3. We can use CamelCase to write the name of variables. eg. ModelTrainingConfig\n",
    "    "
   ]
  },
  {
   "cell_type": "code",
   "execution_count": null,
   "id": "2fc055b2",
   "metadata": {},
   "outputs": [],
   "source": [
    "Q.4. What will happen if a keyword is used as a variable name?"
   ]
  },
  {
   "cell_type": "code",
   "execution_count": null,
   "id": "668c24f3",
   "metadata": {},
   "outputs": [],
   "source": [
    "It will throw an error."
   ]
  },
  {
   "cell_type": "code",
   "execution_count": null,
   "id": "e2f44971",
   "metadata": {},
   "outputs": [],
   "source": [
    "Q.5. For what purpose def keyword is used?"
   ]
  },
  {
   "cell_type": "code",
   "execution_count": null,
   "id": "f6e30936",
   "metadata": {},
   "outputs": [],
   "source": [
    "def key is used to define the function body."
   ]
  },
  {
   "cell_type": "code",
   "execution_count": null,
   "id": "b487b796",
   "metadata": {},
   "outputs": [],
   "source": [
    "Q.6. What is the operation of this special character ‘\\’?"
   ]
  },
  {
   "cell_type": "code",
   "execution_count": null,
   "id": "26866327",
   "metadata": {},
   "outputs": [],
   "source": [
    "The backslash is a powerful special character in Python that can be used to represent whitespace characters, \n",
    "turn special characters into ordinary characters, \n",
    "and perform other tasks.\n",
    "eg. new line \\n\n",
    "    single quote \\'\n",
    "    double quote \\\""
   ]
  },
  {
   "cell_type": "code",
   "execution_count": null,
   "id": "efe056da",
   "metadata": {},
   "outputs": [],
   "source": [
    "Q.7. Give an example of the following conditions:\n",
    "(i) Homogeneous list\n",
    "(ii) Heterogeneous set\n",
    "(iii) Homogeneous tuple"
   ]
  },
  {
   "cell_type": "code",
   "execution_count": null,
   "id": "94e125ea",
   "metadata": {},
   "outputs": [],
   "source": [
    "Homogeneous list\n",
    "    my_list=[1,2,3,4] # all elements are integers\n",
    "Heterogeneous set\n",
    "    my_set=(\"apple\",\"banana\",3,5) # apple is string but 3 is integer\n",
    "Homogeneous tuple\n",
    "    my_set1=(1,2,3) # all elements are integers"
   ]
  },
  {
   "cell_type": "code",
   "execution_count": null,
   "id": "cc82bcd1",
   "metadata": {},
   "outputs": [],
   "source": [
    "Q.8. Explain the mutable and immutable data types with proper explanation & examples."
   ]
  },
  {
   "cell_type": "code",
   "execution_count": null,
   "id": "9a5640fc",
   "metadata": {},
   "outputs": [],
   "source": [
    "Mutable data types are data types that can be changed after they are created.\n",
    "For example, lists, dictionaries, and sets are all mutable data types.\n",
    "\n",
    "Immutable data types are data types that cannot be changed after they are created.\n",
    "For example, strings, integers, floats, and tuples are all immutable data types.\n",
    "        "
   ]
  },
  {
   "cell_type": "code",
   "execution_count": null,
   "id": "594698e4",
   "metadata": {},
   "outputs": [],
   "source": [
    "Q.9. Write a code to create the given structure using only for loop.\n",
    "*\n",
    "***\n",
    "*****\n",
    "*******\n",
    "*********"
   ]
  },
  {
   "cell_type": "code",
   "execution_count": 4,
   "id": "488b7277",
   "metadata": {},
   "outputs": [
    {
     "name": "stdout",
     "output_type": "stream",
     "text": [
      "\n",
      "\n",
      "*\n",
      "\n",
      "***\n",
      "\n",
      "*****\n",
      "\n",
      "*******\n",
      "\n"
     ]
    }
   ],
   "source": [
    "for i in range(5):\n",
    "    for j in range(2*i-1):\n",
    "        print('*',end='')\n",
    "    print('\\n')"
   ]
  },
  {
   "cell_type": "code",
   "execution_count": null,
   "id": "b1d32180",
   "metadata": {},
   "outputs": [],
   "source": [
    "\n",
    "Q.10. Write a code to create the given structure using while loop.\n",
    "|||||||||\n",
    "|||||||\n",
    "|||||\n",
    "|||\n",
    "|"
   ]
  },
  {
   "cell_type": "code",
   "execution_count": 9,
   "id": "dabf77e0",
   "metadata": {},
   "outputs": [
    {
     "name": "stdout",
     "output_type": "stream",
     "text": [
      "|||||||||\n",
      "\n",
      "|||||||\n",
      "\n",
      "|||||\n",
      "\n",
      "|||\n",
      "\n",
      "|\n",
      "\n"
     ]
    }
   ],
   "source": [
    "i=5\n",
    "while(i>=1):\n",
    "    j=1\n",
    "    while(j<=(2*i-1)):\n",
    "        print(\"|\",end='')\n",
    "        j=j+1\n",
    "    print(\"\\n\")\n",
    "    i=i-1\n",
    "        "
   ]
  },
  {
   "cell_type": "code",
   "execution_count": null,
   "id": "e57337e2",
   "metadata": {},
   "outputs": [],
   "source": []
  }
 ],
 "metadata": {
  "kernelspec": {
   "display_name": "Python 3 (ipykernel)",
   "language": "python",
   "name": "python3"
  },
  "language_info": {
   "codemirror_mode": {
    "name": "ipython",
    "version": 3
   },
   "file_extension": ".py",
   "mimetype": "text/x-python",
   "name": "python",
   "nbconvert_exporter": "python",
   "pygments_lexer": "ipython3",
   "version": "3.11.3"
  }
 },
 "nbformat": 4,
 "nbformat_minor": 5
}
