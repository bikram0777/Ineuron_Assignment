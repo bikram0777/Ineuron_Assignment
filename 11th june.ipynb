{
 "cells": [
  {
   "cell_type": "code",
   "execution_count": null,
   "id": "8154475a",
   "metadata": {},
   "outputs": [],
   "source": [
    "1. What is a lambda function in Python, and how does it differ from a regular function?"
   ]
  },
  {
   "cell_type": "code",
   "execution_count": null,
   "id": "42598970",
   "metadata": {},
   "outputs": [],
   "source": [
    "A lambda function is a small,inline and  anonymous function in python which can be defined using lambda keyword and \n",
    "that has only one expression and can be used in conjuction with builtin function like map(),filter().\n",
    "it differ from a regular function in such as way that regular functions have any number of expression and \n",
    "are used for complex operations.\n",
    "eg.pwoer=lambda x: x**2"
   ]
  },
  {
   "cell_type": "code",
   "execution_count": null,
   "id": "0a1d3e27",
   "metadata": {},
   "outputs": [],
   "source": [
    "2. Can a lambda function in Python have multiple arguments? If yes, how can you define and use\n",
    "them?"
   ]
  },
  {
   "cell_type": "code",
   "execution_count": null,
   "id": "4cecd62c",
   "metadata": {},
   "outputs": [],
   "source": [
    "Yes, a lambda function can have multiple arguments.\n",
    "it can be defined in following ways:\n",
    "   eg. sum=lambda x,y:x+y"
   ]
  },
  {
   "cell_type": "code",
   "execution_count": 7,
   "id": "fdd95698",
   "metadata": {},
   "outputs": [],
   "source": [
    "x=5\n",
    "y=7\n",
    "sum=lambda x,y:x+y"
   ]
  },
  {
   "cell_type": "code",
   "execution_count": 8,
   "id": "8009a280",
   "metadata": {},
   "outputs": [
    {
     "data": {
      "text/plain": [
       "12"
      ]
     },
     "execution_count": 8,
     "metadata": {},
     "output_type": "execute_result"
    }
   ],
   "source": [
    "sum(x,y)"
   ]
  },
  {
   "cell_type": "code",
   "execution_count": null,
   "id": "4587c2be",
   "metadata": {},
   "outputs": [],
   "source": [
    "3. How are lambda functions typically used in Python? Provide an example use case."
   ]
  },
  {
   "cell_type": "code",
   "execution_count": null,
   "id": "74c4b8ad",
   "metadata": {},
   "outputs": [],
   "source": [
    "lambda functions are typically used to solve the simple inline operations in conjuctions with builtin functin like map()\n",
    "reduce() and filter\n",
    "eg. using map function if we want to find the squares of all elements of the list\n"
   ]
  },
  {
   "cell_type": "code",
   "execution_count": 14,
   "id": "f1dcc0ea",
   "metadata": {},
   "outputs": [],
   "source": [
    "my_list=[1,2,3,4,5]"
   ]
  },
  {
   "cell_type": "code",
   "execution_count": 21,
   "id": "f693f61f",
   "metadata": {},
   "outputs": [],
   "source": [
    "ls=list(map(lambda x:x**2,my_list))"
   ]
  },
  {
   "cell_type": "code",
   "execution_count": 22,
   "id": "c5cc610d",
   "metadata": {},
   "outputs": [
    {
     "data": {
      "text/plain": [
       "[1, 4, 9, 16, 25]"
      ]
     },
     "execution_count": 22,
     "metadata": {},
     "output_type": "execute_result"
    }
   ],
   "source": [
    "ls"
   ]
  },
  {
   "cell_type": "code",
   "execution_count": null,
   "id": "69b1a01e",
   "metadata": {},
   "outputs": [],
   "source": [
    "\n",
    "4. What are the advantages and limitations of lambda functions compared to regular functions in\n",
    "Python?"
   ]
  },
  {
   "cell_type": "code",
   "execution_count": null,
   "id": "2cfdd3f4",
   "metadata": {},
   "outputs": [],
   "source": [
    "the advantages of lambda functions are:\n",
    "1.it can be used to solve simple task.\n",
    "2. it can be used to create unnamed function that can be used for one time purpose\n",
    "3.they can be used to express complex logic in single line\n",
    "the disadvantages of lambda functions\n",
    "1.they are difficult to read and interpret to a new programmer.\n",
    "2.they are not typicall reusable.\n",
    "3.error tracing is difficult while debugging."
   ]
  },
  {
   "cell_type": "code",
   "execution_count": null,
   "id": "c34339d7",
   "metadata": {},
   "outputs": [],
   "source": [
    "5. Are lambda functions in Python able to access variables defined outside of their own scope?\n",
    "Explain with an example."
   ]
  },
  {
   "cell_type": "code",
   "execution_count": null,
   "id": "1befc94e",
   "metadata": {},
   "outputs": [],
   "source": [
    "Yes, lambda functions in Python can access variables defined outside of their own scope.\n",
    "This is because lambda functions are closures, which means that they can access variables\n",
    "from the scope in which they were created, even after the scope has exited."
   ]
  },
  {
   "cell_type": "code",
   "execution_count": 23,
   "id": "aa5a0653",
   "metadata": {},
   "outputs": [
    {
     "name": "stdout",
     "output_type": "stream",
     "text": [
      "11\n"
     ]
    }
   ],
   "source": [
    "def outer_function():\n",
    "    x = 10\n",
    "    lambda_function = lambda: x + 1\n",
    "    return lambda_function\n",
    "\n",
    "lambda_function = outer_function()\n",
    "print(lambda_function())"
   ]
  },
  {
   "cell_type": "code",
   "execution_count": null,
   "id": "8a934571",
   "metadata": {},
   "outputs": [],
   "source": [
    "6. Write a lambda function to calculate the square of a given number."
   ]
  },
  {
   "cell_type": "code",
   "execution_count": 24,
   "id": "0b2a2e2c",
   "metadata": {},
   "outputs": [
    {
     "data": {
      "text/plain": [
       "16"
      ]
     },
     "execution_count": 24,
     "metadata": {},
     "output_type": "execute_result"
    }
   ],
   "source": [
    "x=4\n",
    "sq=lambda x:x**2\n",
    "sq(x)"
   ]
  },
  {
   "cell_type": "code",
   "execution_count": null,
   "id": "53d56887",
   "metadata": {},
   "outputs": [],
   "source": [
    "7. Create a lambda function to find the maximum value in a list of integers."
   ]
  },
  {
   "cell_type": "code",
   "execution_count": 31,
   "id": "38ee6a5a",
   "metadata": {},
   "outputs": [],
   "source": [
    "my_list=[1,4,3,2]"
   ]
  },
  {
   "cell_type": "code",
   "execution_count": 34,
   "id": "261fae02",
   "metadata": {},
   "outputs": [],
   "source": [
    "find_max=lambda mylist:max(my_list)"
   ]
  },
  {
   "cell_type": "code",
   "execution_count": 35,
   "id": "d096e76b",
   "metadata": {},
   "outputs": [
    {
     "data": {
      "text/plain": [
       "4"
      ]
     },
     "execution_count": 35,
     "metadata": {},
     "output_type": "execute_result"
    }
   ],
   "source": [
    "find_max(my_list)"
   ]
  },
  {
   "cell_type": "code",
   "execution_count": null,
   "id": "48c69273",
   "metadata": {},
   "outputs": [],
   "source": []
  },
  {
   "cell_type": "code",
   "execution_count": null,
   "id": "1c5ed5b9",
   "metadata": {},
   "outputs": [],
   "source": [
    "8. Implement a lambda function to filter out all the even numbers from a list of integers."
   ]
  },
  {
   "cell_type": "code",
   "execution_count": 36,
   "id": "270b9319",
   "metadata": {},
   "outputs": [],
   "source": [
    "all_num=[1,2,3,4,5,6,7,8]"
   ]
  },
  {
   "cell_type": "code",
   "execution_count": 40,
   "id": "4fa070a0",
   "metadata": {},
   "outputs": [],
   "source": [
    "even=list(filter(lambda x:x%2==0,all_num))"
   ]
  },
  {
   "cell_type": "code",
   "execution_count": 41,
   "id": "ab7ab4fa",
   "metadata": {},
   "outputs": [
    {
     "data": {
      "text/plain": [
       "[2, 4, 6, 8]"
      ]
     },
     "execution_count": 41,
     "metadata": {},
     "output_type": "execute_result"
    }
   ],
   "source": [
    "even"
   ]
  },
  {
   "cell_type": "code",
   "execution_count": null,
   "id": "fc05232b",
   "metadata": {},
   "outputs": [],
   "source": []
  },
  {
   "cell_type": "code",
   "execution_count": null,
   "id": "450fae11",
   "metadata": {},
   "outputs": [],
   "source": [
    "\n",
    "9. Write a lambda function to sort a list of strings in ascending order based on the length of each\n",
    "string."
   ]
  },
  {
   "cell_type": "code",
   "execution_count": 64,
   "id": "60e6c8a0",
   "metadata": {},
   "outputs": [],
   "source": [
    "list_of_strings=['apple','bag','cage','do','a']"
   ]
  },
  {
   "cell_type": "code",
   "execution_count": 49,
   "id": "fb885152",
   "metadata": {},
   "outputs": [
    {
     "data": {
      "text/plain": [
       "['a', 'apple', 'bag', 'cage', 'do']"
      ]
     },
     "execution_count": 49,
     "metadata": {},
     "output_type": "execute_result"
    }
   ],
   "source": [
    "#sort in default way\n",
    "sorted(list_of_strings)"
   ]
  },
  {
   "cell_type": "code",
   "execution_count": 51,
   "id": "e4d28bab",
   "metadata": {},
   "outputs": [
    {
     "data": {
      "text/plain": [
       "[5, 3, 4, 2, 1]"
      ]
     },
     "execution_count": 51,
     "metadata": {},
     "output_type": "execute_result"
    }
   ],
   "source": [
    "#finding the length of each element\n",
    "list(map(lambda x:len(x),list_of_strings))"
   ]
  },
  {
   "cell_type": "code",
   "execution_count": 54,
   "id": "88174832",
   "metadata": {},
   "outputs": [
    {
     "data": {
      "text/plain": [
       "[1, 2, 3, 4, 5]"
      ]
     },
     "execution_count": 54,
     "metadata": {},
     "output_type": "execute_result"
    }
   ],
   "source": [
    "#sorting the length \n",
    "sorted(list(map(lambda x:len(x),list_of_strings)))"
   ]
  },
  {
   "cell_type": "code",
   "execution_count": 65,
   "id": "268e1582",
   "metadata": {},
   "outputs": [],
   "source": [
    "#sorting in ascending order on the basis of length\n",
    "list_of_strings.sort(key=lambda y:len(y))"
   ]
  },
  {
   "cell_type": "code",
   "execution_count": 66,
   "id": "0ef3ecc5",
   "metadata": {},
   "outputs": [
    {
     "data": {
      "text/plain": [
       "['a', 'do', 'bag', 'cage', 'apple']"
      ]
     },
     "execution_count": 66,
     "metadata": {},
     "output_type": "execute_result"
    }
   ],
   "source": [
    "list_of_strings"
   ]
  },
  {
   "cell_type": "code",
   "execution_count": null,
   "id": "a530989c",
   "metadata": {},
   "outputs": [],
   "source": []
  },
  {
   "cell_type": "code",
   "execution_count": null,
   "id": "2bbdc40f",
   "metadata": {},
   "outputs": [],
   "source": []
  },
  {
   "cell_type": "code",
   "execution_count": null,
   "id": "79e7499a",
   "metadata": {},
   "outputs": [],
   "source": [
    "10. Create a lambda function that takes two lists as input and returns a new list containing the\n",
    "common elements between the two lists."
   ]
  },
  {
   "cell_type": "code",
   "execution_count": 78,
   "id": "0d29768e",
   "metadata": {},
   "outputs": [],
   "source": [
    "a=[1,2,3,4,5,6]\n",
    "b=[2,4,6,8]"
   ]
  },
  {
   "cell_type": "code",
   "execution_count": 72,
   "id": "9e85f3b6",
   "metadata": {},
   "outputs": [
    {
     "name": "stdout",
     "output_type": "stream",
     "text": [
      "yes\n"
     ]
    }
   ],
   "source": [
    "if a[1] in b:\n",
    "    print(\"yes\")\n",
    "else:\n",
    "    print(\"no\")"
   ]
  },
  {
   "cell_type": "code",
   "execution_count": 79,
   "id": "644fea7e",
   "metadata": {},
   "outputs": [
    {
     "data": {
      "text/plain": [
       "{1, 2, 3, 4, 5, 6}"
      ]
     },
     "execution_count": 79,
     "metadata": {},
     "output_type": "execute_result"
    }
   ],
   "source": [
    "set(a)"
   ]
  },
  {
   "cell_type": "code",
   "execution_count": 80,
   "id": "b86dd399",
   "metadata": {},
   "outputs": [
    {
     "data": {
      "text/plain": [
       "{2, 4, 6, 8}"
      ]
     },
     "execution_count": 80,
     "metadata": {},
     "output_type": "execute_result"
    }
   ],
   "source": [
    "set(b)"
   ]
  },
  {
   "cell_type": "code",
   "execution_count": 81,
   "id": "ff9bd84d",
   "metadata": {},
   "outputs": [
    {
     "data": {
      "text/plain": [
       "{2, 4, 6}"
      ]
     },
     "execution_count": 81,
     "metadata": {},
     "output_type": "execute_result"
    }
   ],
   "source": [
    "set(a)&set(b)"
   ]
  },
  {
   "cell_type": "code",
   "execution_count": 89,
   "id": "953df46d",
   "metadata": {},
   "outputs": [],
   "source": [
    "# intersection is applied in set so it is converted to set"
   ]
  },
  {
   "cell_type": "code",
   "execution_count": 90,
   "id": "0c876490",
   "metadata": {},
   "outputs": [],
   "source": [
    "common_ele=lambda a,b:set(a)&set(b)"
   ]
  },
  {
   "cell_type": "code",
   "execution_count": 91,
   "id": "ff922725",
   "metadata": {},
   "outputs": [
    {
     "data": {
      "text/plain": [
       "[2, 4, 6]"
      ]
     },
     "execution_count": 91,
     "metadata": {},
     "output_type": "execute_result"
    }
   ],
   "source": [
    "list(common_ele(a,b))"
   ]
  },
  {
   "cell_type": "code",
   "execution_count": null,
   "id": "a7cdc1e6",
   "metadata": {},
   "outputs": [],
   "source": []
  },
  {
   "cell_type": "code",
   "execution_count": null,
   "id": "c260f1d6",
   "metadata": {},
   "outputs": [],
   "source": [
    "11. Write a recursive function to calculate the factorial of a given positive integer."
   ]
  },
  {
   "cell_type": "code",
   "execution_count": 95,
   "id": "6414b3af",
   "metadata": {},
   "outputs": [],
   "source": [
    "def find_fact(n):\n",
    "    if n==0:\n",
    "        return 1\n",
    "    return n*find_fact(n-1)"
   ]
  },
  {
   "cell_type": "code",
   "execution_count": 96,
   "id": "dae74eda",
   "metadata": {},
   "outputs": [],
   "source": [
    "n=5"
   ]
  },
  {
   "cell_type": "code",
   "execution_count": 97,
   "id": "a3c32536",
   "metadata": {},
   "outputs": [
    {
     "name": "stdout",
     "output_type": "stream",
     "text": [
      "The factorail of 5 is 120 \n"
     ]
    }
   ],
   "source": [
    "print(f\"The factorail of {n} is {find_fact(n)} \")"
   ]
  },
  {
   "cell_type": "code",
   "execution_count": null,
   "id": "d6cd94d8",
   "metadata": {},
   "outputs": [],
   "source": [
    "12. Implement a recursive function to compute the nth Fibonacci number."
   ]
  },
  {
   "cell_type": "code",
   "execution_count": null,
   "id": "ed389426",
   "metadata": {},
   "outputs": [],
   "source": [
    "# for this fibonacci series\n",
    "1 1 2 3 5 8 13 21 34 55"
   ]
  },
  {
   "cell_type": "code",
   "execution_count": 104,
   "id": "8ac7db78",
   "metadata": {},
   "outputs": [],
   "source": [
    "def fibo(n):\n",
    "    if n==0:\n",
    "        return 0\n",
    "    elif n==1:\n",
    "        return 1\n",
    "    return fibo(n-1)+fibo(n-2)"
   ]
  },
  {
   "cell_type": "code",
   "execution_count": 106,
   "id": "7e56b06f",
   "metadata": {},
   "outputs": [
    {
     "name": "stdout",
     "output_type": "stream",
     "text": [
      "The 10th term is 55\n"
     ]
    }
   ],
   "source": [
    "n=10\n",
    "print(f\"The {n}th term is {fibo(n)}\")"
   ]
  },
  {
   "cell_type": "code",
   "execution_count": null,
   "id": "73f4e9e9",
   "metadata": {},
   "outputs": [],
   "source": []
  },
  {
   "cell_type": "code",
   "execution_count": null,
   "id": "ff096c3c",
   "metadata": {},
   "outputs": [],
   "source": [
    "13. Create a recursive function to find the sum of all the elements in a given list."
   ]
  },
  {
   "cell_type": "code",
   "execution_count": 125,
   "id": "d645b741",
   "metadata": {},
   "outputs": [],
   "source": [
    "def find_sum(n):\n",
    "    if len(n)==0:\n",
    "        return 0\n",
    "    return n[0]+find_sum(n[1:])"
   ]
  },
  {
   "cell_type": "code",
   "execution_count": 126,
   "id": "16d9ebb2",
   "metadata": {},
   "outputs": [],
   "source": [
    "my_lst=[1,2,3,4]"
   ]
  },
  {
   "cell_type": "code",
   "execution_count": 128,
   "id": "1f7052b6",
   "metadata": {},
   "outputs": [
    {
     "name": "stdout",
     "output_type": "stream",
     "text": [
      "The sum of elements of list is  10\n"
     ]
    }
   ],
   "source": [
    "print(\"The sum of elements of list is \",find_sum(my_lst))"
   ]
  },
  {
   "cell_type": "code",
   "execution_count": null,
   "id": "6cb7aba9",
   "metadata": {},
   "outputs": [],
   "source": [
    "14. Write a recursive function to determine whether a given string is a palindrome."
   ]
  },
  {
   "cell_type": "code",
   "execution_count": 145,
   "id": "01d2bcbe",
   "metadata": {},
   "outputs": [],
   "source": [
    "mystr=\"markram\""
   ]
  },
  {
   "cell_type": "code",
   "execution_count": 146,
   "id": "c2340f16",
   "metadata": {},
   "outputs": [
    {
     "name": "stdout",
     "output_type": "stream",
     "text": [
      "the string is palindrome\n"
     ]
    }
   ],
   "source": [
    "ispalin=1\n",
    "for i in range(int(len(mystr)/2)):\n",
    "    if mystr[i]!=mystr[-(i+1)]:\n",
    "        ispalin=0\n",
    "\n",
    "if ispalin==1:\n",
    "    print(\"the string is palindrome\")\n",
    "else:\n",
    "    print(\"the string is not palindrome\")"
   ]
  },
  {
   "cell_type": "code",
   "execution_count": 137,
   "id": "39ea3c62",
   "metadata": {},
   "outputs": [
    {
     "data": {
      "text/plain": [
       "'m'"
      ]
     },
     "execution_count": 137,
     "metadata": {},
     "output_type": "execute_result"
    }
   ],
   "source": [
    "mystr[-1]"
   ]
  },
  {
   "cell_type": "code",
   "execution_count": null,
   "id": "ae1e6550",
   "metadata": {},
   "outputs": [],
   "source": [
    "15. Implement a recursive function to find the greatest common divisor (GCD) of two positive integers."
   ]
  },
  {
   "cell_type": "code",
   "execution_count": 147,
   "id": "12a849d8",
   "metadata": {},
   "outputs": [],
   "source": [
    "def gcd(x, y):\n",
    "    \n",
    "    if y == 0:\n",
    "        return x\n",
    "    else:\n",
    "        return gcd(y, x % y)\n"
   ]
  },
  {
   "cell_type": "code",
   "execution_count": 148,
   "id": "2a2213c6",
   "metadata": {},
   "outputs": [
    {
     "name": "stdout",
     "output_type": "stream",
     "text": [
      "gcd of 12 and 18 is 6\n"
     ]
    }
   ],
   "source": [
    "n1=12\n",
    "n2=18\n",
    "print(f\"gcd of {n1} and {n2} is {gcd(n1,n2)}\")"
   ]
  },
  {
   "cell_type": "code",
   "execution_count": null,
   "id": "bb3d0d6f",
   "metadata": {},
   "outputs": [],
   "source": []
  }
 ],
 "metadata": {
  "kernelspec": {
   "display_name": "Python 3 (ipykernel)",
   "language": "python",
   "name": "python3"
  },
  "language_info": {
   "codemirror_mode": {
    "name": "ipython",
    "version": 3
   },
   "file_extension": ".py",
   "mimetype": "text/x-python",
   "name": "python",
   "nbconvert_exporter": "python",
   "pygments_lexer": "ipython3",
   "version": "3.11.3"
  }
 },
 "nbformat": 4,
 "nbformat_minor": 5
}
