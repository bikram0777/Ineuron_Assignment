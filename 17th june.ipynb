{
 "cells": [
  {
   "cell_type": "code",
   "execution_count": null,
   "id": "ddca268a",
   "metadata": {},
   "outputs": [],
   "source": [
    "\n",
    "1. What is the role of try and exception block?\n"
   ]
  },
  {
   "cell_type": "code",
   "execution_count": null,
   "id": "381640cb",
   "metadata": {},
   "outputs": [],
   "source": [
    "\n",
    "The role of a try and except block in Python is to handle errors gracefully.\n",
    "A try block contains code that we want to try to execute, and an except block contains code\n",
    "that will be executed if an error occurs.\n",
    "\n",
    "When the Python interpreter encounters a try block,\n",
    "it will execute the code inside the block. \n",
    "If an error occurs, the Python interpreter will skip the rest of the try block and jump to the except block. \n",
    "The except block can then handle the error in whatever way we want."
   ]
  },
  {
   "cell_type": "code",
   "execution_count": null,
   "id": "2db5dd9d",
   "metadata": {},
   "outputs": [],
   "source": [
    "2. What is the syntax for a basic try-except block?"
   ]
  },
  {
   "cell_type": "code",
   "execution_count": null,
   "id": "07bb022e",
   "metadata": {},
   "outputs": [],
   "source": [
    "the syntax for basic try-except block is a sfollows\n",
    "try:\n",
    "    error prone code/statements\n",
    "except Exception as e:\n",
    "    error message\n",
    "        "
   ]
  },
  {
   "cell_type": "code",
   "execution_count": null,
   "id": "d35cc0c0",
   "metadata": {},
   "outputs": [],
   "source": [
    "3. What happens if an exception occurs inside a try block and there is no matching\n",
    "except block?"
   ]
  },
  {
   "cell_type": "code",
   "execution_count": null,
   "id": "42f47f41",
   "metadata": {},
   "outputs": [],
   "source": [
    "\n",
    "If an exception occurs inside a try block and there is no matching except block, \n",
    "the exception will be propagated to the outer try block, if one exists.\n",
    "If there is no outer try block, the program will crash."
   ]
  },
  {
   "cell_type": "code",
   "execution_count": null,
   "id": "aa71ef6c",
   "metadata": {},
   "outputs": [],
   "source": [
    "\n",
    "4. What is the difference between using a bare except block and specifying a specific\n",
    "exception type?"
   ]
  },
  {
   "cell_type": "code",
   "execution_count": null,
   "id": "314d707e",
   "metadata": {},
   "outputs": [],
   "source": [
    "The difference between using a bare except block and specifying a specific exception type is that\n",
    "a bare except block will catch all exceptions,\n",
    "while specifying a specific exception type will only catch exceptions of that type or its subtypes."
   ]
  },
  {
   "cell_type": "code",
   "execution_count": null,
   "id": "0c7e2328",
   "metadata": {},
   "outputs": [],
   "source": [
    "5. Can you have nested try-except blocks in Python? If yes, then give an example."
   ]
  },
  {
   "cell_type": "code",
   "execution_count": null,
   "id": "87719088",
   "metadata": {},
   "outputs": [],
   "source": [
    "Yes, we can have nested try-except blocks in Python.\n",
    "Nested try-except blocks allow us to handle errors at different levels of the code"
   ]
  },
  {
   "cell_type": "code",
   "execution_count": 1,
   "id": "ddd6c6bf",
   "metadata": {},
   "outputs": [
    {
     "name": "stdout",
     "output_type": "stream",
     "text": [
      "Cannot divide by zero.\n"
     ]
    }
   ],
   "source": [
    "try:\n",
    "  # this is the Outer try block.\n",
    "  try:\n",
    "    # this is the  Inner try block.\n",
    "    a=1 / 0\n",
    "  except ZeroDivisionError:\n",
    "    # this is the Inner except block.\n",
    "    print(\"Cannot divide by zero.\")\n",
    "except:\n",
    "  # this is the Outer except block.\n",
    "  print(\"An error occurred.\")\n"
   ]
  },
  {
   "cell_type": "code",
   "execution_count": null,
   "id": "d6df22e5",
   "metadata": {},
   "outputs": [],
   "source": [
    "6. Can we use multiple exception blocks, if yes then give an example."
   ]
  },
  {
   "cell_type": "code",
   "execution_count": null,
   "id": "d5648bea",
   "metadata": {},
   "outputs": [],
   "source": [
    "Yes, we can use multiple exception blocks in Python.\n",
    "This is useful for handling different types of errors in different ways."
   ]
  },
  {
   "cell_type": "code",
   "execution_count": null,
   "id": "1245f0ca",
   "metadata": {},
   "outputs": [],
   "source": [
    "try:\n",
    "    \n",
    "   f = open(\"myfile.txt\", \"r\")\n",
    "except FileNotFoundError:\n",
    "    print(\"File not found.\")\n",
    "except PermissionError:\n",
    "   print(\"Permission denied.\")\n",
    "\n",
    "\n",
    "contents = f.read()\n"
   ]
  },
  {
   "cell_type": "code",
   "execution_count": null,
   "id": "e1e196fe",
   "metadata": {},
   "outputs": [],
   "source": []
  },
  {
   "cell_type": "code",
   "execution_count": null,
   "id": "3cccd06e",
   "metadata": {},
   "outputs": [],
   "source": [
    "7. Write the reason due to which following errors are raised:\n",
    "a. EOFError\n",
    "b. FloatingPointError\n",
    "c. IndexError\n",
    "d. MemoryError\n",
    "e. OverflowError\n",
    "f. TabError\n",
    "g. ValueError"
   ]
  },
  {
   "cell_type": "code",
   "execution_count": null,
   "id": "da194e66",
   "metadata": {},
   "outputs": [],
   "source": [
    "Here are the reasons why the following errors are raised in Python:\n",
    "a. EOFError\n",
    "An EOFError is raised when the interpreter encounters the end of a file without reading the expected amount of data.\n",
    "This can happen if the file is corrupted or if the interpreter is trying to read more data than is available in the file.\n",
    "\n",
    "b. FloatingPointError\n",
    "A FloatingPointError is raised when an operation on floating-point numbers results in a value that is outside of the range of representable floating-point numbers. \n",
    "This can happen if the result of an operation is too large or too small to be represented as a floating-point number.\n",
    "\n",
    "c. IndexError\n",
    "An IndexError is raised when an attempt is made to access an element of a sequence at an invalid index. \n",
    "This can happen if the index is out of bounds or if the sequence is empty.\n",
    "\n",
    "d. MemoryError\n",
    "A MemoryError is raised when the interpreter cannot allocate enough memory to complete an operation. \n",
    "This can happen if the program is trying to allocate too much memory or if the system is running out of memory.\n",
    "\n",
    "e. OverflowError\n",
    "An OverflowError is raised when an arithmetic operation results in a value that is too large to be represented as a Python integer. \n",
    "This can happen if the result of an operation is too large or if the operation involves negative numbers that are too small to be represented as Python integers.\n",
    "\n",
    "f. TabError\n",
    "A TabError is raised when the interpreter encounters an inconsistent indentation. \n",
    "This can happen if the code is indented with a mix of tabs and spaces.\n",
    "\n",
    "g. ValueError\n",
    "A ValueError is raised when an operation is performed on an object with an invalid value. \n",
    "This can happen if the object is not the correct type for the operation or if the value of the object is outside of the expected range.\n",
    "\n"
   ]
  },
  {
   "cell_type": "code",
   "execution_count": null,
   "id": "7fad6f32",
   "metadata": {},
   "outputs": [],
   "source": [
    "8. Write code for the following given scenario and add try-exception block to it.\n",
    "a. Program to divide two numbers\n",
    "b. Program to convert a string to an integer\n",
    "c. Program to access an element in a list\n",
    "d. Program to handle a specific exception\n",
    "e. Program to handle any exception"
   ]
  },
  {
   "cell_type": "code",
   "execution_count": 6,
   "id": "b29baf6d",
   "metadata": {},
   "outputs": [
    {
     "name": "stdout",
     "output_type": "stream",
     "text": [
      "error occured\n",
      "Error type:  division by zero\n"
     ]
    }
   ],
   "source": [
    "# a program to divide two numbers\n",
    "a=5\n",
    "b=0\n",
    "try:\n",
    "    q=a/b\n",
    "    print(f\"quotient is: {q}\")\n",
    "except Exception as e:\n",
    "    print(\"error occured\")\n",
    "    print(\"Error type: \",e)"
   ]
  },
  {
   "cell_type": "code",
   "execution_count": 10,
   "id": "fd4e7a59",
   "metadata": {},
   "outputs": [
    {
     "name": "stdout",
     "output_type": "stream",
     "text": [
      "invalid literal for int() with base 10: 'Bikram'\n"
     ]
    }
   ],
   "source": [
    "#b. Program to convert a string to an integer\n",
    "mystr=\"Bikram\"\n",
    "try:\n",
    "    a=int(mystr)\n",
    "    print(a)\n",
    "except Exception as e:\n",
    "    print(e)"
   ]
  },
  {
   "cell_type": "code",
   "execution_count": null,
   "id": "cd945fc9",
   "metadata": {},
   "outputs": [],
   "source": [
    "# c. Program to access an element in a list\n"
   ]
  },
  {
   "cell_type": "code",
   "execution_count": 13,
   "id": "4b89672a",
   "metadata": {},
   "outputs": [
    {
     "name": "stdout",
     "output_type": "stream",
     "text": [
      "indec error\n"
     ]
    }
   ],
   "source": [
    "lst=[1,2,3,4,5]\n",
    "\n",
    "    "
   ]
  },
  {
   "cell_type": "code",
   "execution_count": 14,
   "id": "2fba174b",
   "metadata": {},
   "outputs": [],
   "source": [
    "def access_element(lst,ind):\n",
    "    try:\n",
    "        print(lst[8])\n",
    "\n",
    "    except IndexError:\n",
    "        print(\"index error\")\n",
    "    except Exception as e:\n",
    "        print(e)"
   ]
  },
  {
   "cell_type": "code",
   "execution_count": 15,
   "id": "f49b68d6",
   "metadata": {},
   "outputs": [
    {
     "name": "stdout",
     "output_type": "stream",
     "text": [
      "index error\n"
     ]
    }
   ],
   "source": [
    "access_element(lst,6)"
   ]
  },
  {
   "cell_type": "code",
   "execution_count": 19,
   "id": "8e046be1",
   "metadata": {},
   "outputs": [
    {
     "name": "stdout",
     "output_type": "stream",
     "text": [
      "the result is  0.7142857142857143\n"
     ]
    }
   ],
   "source": [
    "# d. Program to handle a specific exception\n",
    "a=5\n",
    "b=7\n",
    "try:\n",
    "    result = a / b\n",
    "except ZeroDivisionError:\n",
    "    print(\"Cannot divide by zero.\")\n",
    "    \n",
    "else:\n",
    "    print(\"the result is \",result)"
   ]
  },
  {
   "cell_type": "code",
   "execution_count": null,
   "id": "c7a4463e",
   "metadata": {},
   "outputs": [],
   "source": []
  }
 ],
 "metadata": {
  "kernelspec": {
   "display_name": "Python 3 (ipykernel)",
   "language": "python",
   "name": "python3"
  },
  "language_info": {
   "codemirror_mode": {
    "name": "ipython",
    "version": 3
   },
   "file_extension": ".py",
   "mimetype": "text/x-python",
   "name": "python",
   "nbconvert_exporter": "python",
   "pygments_lexer": "ipython3",
   "version": "3.11.3"
  }
 },
 "nbformat": 4,
 "nbformat_minor": 5
}
