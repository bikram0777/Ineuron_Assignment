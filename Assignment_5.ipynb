{
 "cells": [
  {
   "cell_type": "markdown",
   "id": "f14d8ce7",
   "metadata": {},
   "source": [
    "1. What does an empty dictionary's code look like?"
   ]
  },
  {
   "cell_type": "code",
   "execution_count": null,
   "id": "90069147",
   "metadata": {},
   "outputs": [],
   "source": [
    "An Empty Dictionary looks like\""
   ]
  },
  {
   "cell_type": "code",
   "execution_count": 1,
   "id": "349fee31",
   "metadata": {},
   "outputs": [],
   "source": [
    "my_dict={}"
   ]
  },
  {
   "cell_type": "code",
   "execution_count": 2,
   "id": "1c54fc12",
   "metadata": {},
   "outputs": [
    {
     "data": {
      "text/plain": [
       "dict"
      ]
     },
     "execution_count": 2,
     "metadata": {},
     "output_type": "execute_result"
    }
   ],
   "source": [
    "type(my_dict)"
   ]
  },
  {
   "cell_type": "code",
   "execution_count": 3,
   "id": "0e9c46ec",
   "metadata": {},
   "outputs": [],
   "source": [
    "mydict=dict()"
   ]
  },
  {
   "cell_type": "code",
   "execution_count": 5,
   "id": "857acb16",
   "metadata": {},
   "outputs": [
    {
     "data": {
      "text/plain": [
       "dict"
      ]
     },
     "execution_count": 5,
     "metadata": {},
     "output_type": "execute_result"
    }
   ],
   "source": [
    "type(mydict)"
   ]
  },
  {
   "cell_type": "markdown",
   "id": "65d073f4",
   "metadata": {},
   "source": [
    "2. What is the value of a dictionary value with the key 'foo' and the value 42?"
   ]
  },
  {
   "cell_type": "code",
   "execution_count": 6,
   "id": "c67d2af2",
   "metadata": {},
   "outputs": [],
   "source": [
    "dict={\n",
    "    'foo':42\n",
    "}"
   ]
  },
  {
   "cell_type": "code",
   "execution_count": 10,
   "id": "97fbc83e",
   "metadata": {},
   "outputs": [
    {
     "name": "stdout",
     "output_type": "stream",
     "text": [
      "dict_keys(['foo'])\n",
      "dict_values([42])\n"
     ]
    }
   ],
   "source": [
    "print(dict.keys())\n",
    "print(dict.values())"
   ]
  },
  {
   "cell_type": "code",
   "execution_count": 11,
   "id": "9c258d18",
   "metadata": {},
   "outputs": [
    {
     "data": {
      "text/plain": [
       "42"
      ]
     },
     "execution_count": 11,
     "metadata": {},
     "output_type": "execute_result"
    }
   ],
   "source": [
    "dict['foo']"
   ]
  },
  {
   "cell_type": "raw",
   "id": "d4546369",
   "metadata": {},
   "source": [
    "the value of a dictionary value with the key 'foo' and the value 42 is 42"
   ]
  },
  {
   "cell_type": "markdown",
   "id": "67d27d37",
   "metadata": {},
   "source": [
    "3. What is the most significant distinction between a dictionary and a list?"
   ]
  },
  {
   "cell_type": "raw",
   "id": "154448b2",
   "metadata": {},
   "source": [
    "The Significant Difference between dictionary is :\n",
    "    a dictionary is a collection of items in key and value pair but a list is a collection of homogenous and heterogenous elements.\n",
    "    syntax to create dictionary:\n",
    "    my_dict={}\n",
    "    syntax to create list\n",
    "    my_list=[]"
   ]
  },
  {
   "cell_type": "markdown",
   "id": "022928f8",
   "metadata": {},
   "source": [
    "4. What happens if you try to access spam['foo'] if spam is {'bar': 100}?"
   ]
  },
  {
   "cell_type": "code",
   "execution_count": 13,
   "id": "43873032",
   "metadata": {},
   "outputs": [],
   "source": [
    "spam={\n",
    "    'bar':100\n",
    "}"
   ]
  },
  {
   "cell_type": "raw",
   "id": "5ef8b818",
   "metadata": {},
   "source": [
    "if we try to access spam['foo'], it will throw an exception KeyError."
   ]
  },
  {
   "cell_type": "code",
   "execution_count": null,
   "id": "6dbef8b2",
   "metadata": {},
   "outputs": [],
   "source": [
    "5. If a dictionary is stored in spam, what is the difference between the expressions 'cat' in spam and 'cat' in spam.keys()?"
   ]
  },
  {
   "cell_type": "code",
   "execution_count": 17,
   "id": "936a8225",
   "metadata": {},
   "outputs": [],
   "source": [
    "spam={\n",
    "    'cat':\"hello\"\n",
    "}"
   ]
  },
  {
   "cell_type": "code",
   "execution_count": 18,
   "id": "2728699c",
   "metadata": {},
   "outputs": [
    {
     "name": "stdout",
     "output_type": "stream",
     "text": [
      "cat\n"
     ]
    }
   ],
   "source": [
    "for cat in spam:\n",
    "    print(cat)"
   ]
  },
  {
   "cell_type": "code",
   "execution_count": 19,
   "id": "9f2b1583",
   "metadata": {},
   "outputs": [
    {
     "name": "stdout",
     "output_type": "stream",
     "text": [
      "cat\n"
     ]
    }
   ],
   "source": [
    "for cat in spam.keys():\n",
    "    print(cat)"
   ]
  },
  {
   "cell_type": "raw",
   "id": "63732f65",
   "metadata": {},
   "source": [
    "they both represent the key of the dictionary."
   ]
  },
  {
   "cell_type": "markdown",
   "id": "e26804da",
   "metadata": {},
   "source": [
    "6. If a dictionary is stored in spam, what is the difference between the expressions 'cat' in spam and 'cat' in spam.values()?"
   ]
  },
  {
   "cell_type": "code",
   "execution_count": 20,
   "id": "90fd792f",
   "metadata": {},
   "outputs": [
    {
     "name": "stdout",
     "output_type": "stream",
     "text": [
      "hello\n"
     ]
    }
   ],
   "source": [
    "for cat in spam.values():\n",
    "    print(cat)"
   ]
  },
  {
   "cell_type": "raw",
   "id": "f2a165a8",
   "metadata": {},
   "source": [
    "in this case ,the first cat will represent the key and second cat represents the value in the spam."
   ]
  },
  {
   "cell_type": "code",
   "execution_count": null,
   "id": "04f568c8",
   "metadata": {},
   "outputs": [],
   "source": [
    "7. What is a shortcut for the following code?\n",
    "if 'color' not in spam:\n",
    "spam['color'] = 'black'"
   ]
  },
  {
   "cell_type": "code",
   "execution_count": null,
   "id": "afd76f49",
   "metadata": {},
   "outputs": [],
   "source": []
  },
  {
   "cell_type": "code",
   "execution_count": 30,
   "id": "ac83021a",
   "metadata": {},
   "outputs": [
    {
     "data": {
      "text/plain": [
       "{'cat': 'hello'}"
      ]
     },
     "execution_count": 30,
     "metadata": {},
     "output_type": "execute_result"
    }
   ],
   "source": [
    "spam"
   ]
  },
  {
   "cell_type": "code",
   "execution_count": 28,
   "id": "7fae3d4a",
   "metadata": {},
   "outputs": [
    {
     "data": {
      "text/plain": [
       "{'color': 'black'}"
      ]
     },
     "execution_count": 28,
     "metadata": {},
     "output_type": "execute_result"
    }
   ],
   "source": [
    "{'color':'black' for col in spam.keys() if col!=\"color\" }"
   ]
  },
  {
   "cell_type": "code",
   "execution_count": null,
   "id": "322aa4a0",
   "metadata": {},
   "outputs": [],
   "source": []
  },
  {
   "cell_type": "markdown",
   "id": "d1d7934f",
   "metadata": {},
   "source": [
    "8. How do you \"pretty print\" dictionary values using which module and function?"
   ]
  },
  {
   "cell_type": "code",
   "execution_count": 32,
   "id": "801d3754",
   "metadata": {},
   "outputs": [
    {
     "name": "stdout",
     "output_type": "stream",
     "text": [
      "{\n",
      "    \"name\": \"John\",\n",
      "    \"age\": 30,\n",
      "    \"city\": \"New York\"\n",
      "}\n"
     ]
    }
   ],
   "source": [
    "import json\n",
    "data = {'name': 'John', 'age': 30, 'city': 'New York'}\n",
    "pretty_json = json.dumps(data, indent=4)\n",
    "print(pretty_json)\n"
   ]
  },
  {
   "cell_type": "code",
   "execution_count": null,
   "id": "f9f606e7",
   "metadata": {},
   "outputs": [],
   "source": []
  }
 ],
 "metadata": {
  "kernelspec": {
   "display_name": "Python 3 (ipykernel)",
   "language": "python",
   "name": "python3"
  },
  "language_info": {
   "codemirror_mode": {
    "name": "ipython",
    "version": 3
   },
   "file_extension": ".py",
   "mimetype": "text/x-python",
   "name": "python",
   "nbconvert_exporter": "python",
   "pygments_lexer": "ipython3",
   "version": "3.11.3"
  }
 },
 "nbformat": 4,
 "nbformat_minor": 5
}
