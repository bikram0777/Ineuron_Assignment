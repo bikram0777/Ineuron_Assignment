{
 "cells": [
  {
   "cell_type": "code",
   "execution_count": null,
   "id": "42655bf4",
   "metadata": {},
   "outputs": [],
   "source": [
    "1. What is the primary goal of Object-Oriented Programming (OOP)?"
   ]
  },
  {
   "cell_type": "code",
   "execution_count": null,
   "id": "56631524",
   "metadata": {},
   "outputs": [],
   "source": [
    "The primary goal of Object-Oriented Programming (OOP) is to design software in a way that models and represents real-world\n",
    "entities and their interactions in a more intuitive and organized manner. OOP is a programming paradigm that focuses on \n",
    "organizing code around the concept of \"objects,\" \n",
    "which are instances of classes, and it is built on several fundamental principles, including\n",
    "Encapulation,Abstraction,Inheritance,Polymorphism etc"
   ]
  },
  {
   "cell_type": "code",
   "execution_count": null,
   "id": "9f710cc9",
   "metadata": {},
   "outputs": [],
   "source": [
    "2. What is an object in Python?"
   ]
  },
  {
   "cell_type": "code",
   "execution_count": null,
   "id": "f2590576",
   "metadata": {},
   "outputs": [],
   "source": [
    "An object is an instance of a class."
   ]
  },
  {
   "cell_type": "code",
   "execution_count": null,
   "id": "23b5d307",
   "metadata": {},
   "outputs": [],
   "source": [
    "3. What is a class in Python?"
   ]
  },
  {
   "cell_type": "code",
   "execution_count": null,
   "id": "ec809159",
   "metadata": {},
   "outputs": [],
   "source": [
    "In Python, a class is a blueprint or template for creating objects.\n",
    "It defines the structure and behavior of objects that can be created based on that class.\n",
    "A class can be said as a fundamental concept in object-oriented programming (OOP) and is used \n",
    "to encapsulate data (attributes) and functions (methods) into a single unit. It is create using class keyword.\n",
    "\n",
    "eg.\n",
    "class Student:\n",
    "    #collection of attributes and methods here"
   ]
  },
  {
   "cell_type": "code",
   "execution_count": null,
   "id": "31259fc0",
   "metadata": {},
   "outputs": [],
   "source": [
    "4. What are attributes and methods in a class?"
   ]
  },
  {
   "cell_type": "code",
   "execution_count": null,
   "id": "50fc7354",
   "metadata": {},
   "outputs": [],
   "source": [
    "Attributes are the data and the methods are the functions of that class.\n",
    "if we consider Car as class then \n",
    "name,model no,color are the attributes\n",
    "brake() ,accelerate() are the methods of Car class."
   ]
  },
  {
   "cell_type": "code",
   "execution_count": null,
   "id": "fd29c7cc",
   "metadata": {},
   "outputs": [],
   "source": [
    "5. What is the difference between class variables and instance variables in Python?"
   ]
  },
  {
   "cell_type": "code",
   "execution_count": null,
   "id": "3331a0bc",
   "metadata": {},
   "outputs": [],
   "source": [
    "class variable are shared by all the objects but instance variables belongs to a particular object.\n",
    "class variables can be accessed by using class name or object but instance variable can be accessed by objects only.\n",
    "class variables are declared outside of instance method like __init__() method but instance variables are declared \n",
    "inside function."
   ]
  },
  {
   "cell_type": "code",
   "execution_count": 4,
   "id": "c97d3e32",
   "metadata": {},
   "outputs": [],
   "source": [
    "class Car:\n",
    "    model=\"BYD\" #class variable\n",
    "    def __init__(self,color,height):\n",
    "        self.color=color #instance variable\n",
    "        self.height=height #instance variable"
   ]
  },
  {
   "cell_type": "code",
   "execution_count": 6,
   "id": "b71210bf",
   "metadata": {},
   "outputs": [
    {
     "name": "stdout",
     "output_type": "stream",
     "text": [
      "BYD\n",
      "BYD\n",
      "red\n"
     ]
    }
   ],
   "source": [
    "obj=Car('red',23)\n",
    "print(Car.model)# accessing class variable via class name\n",
    "print(obj.model)# accessing class variable via object name\n",
    "print(obj.color)# accessing instance variable"
   ]
  },
  {
   "cell_type": "code",
   "execution_count": null,
   "id": "971240bc",
   "metadata": {},
   "outputs": [],
   "source": [
    "6. What is the purpose of the self parameter in Python class methods?"
   ]
  },
  {
   "cell_type": "code",
   "execution_count": null,
   "id": "25082de2",
   "metadata": {},
   "outputs": [],
   "source": [
    "In Python, the self parameter in class methods is a reference to the instance of the class itself. \n",
    "It is a convention in Python to name the first parameter of instance methods as self,\n",
    "although we can technically name it whatever we like.\n",
    "It is like the THIS pointer in c++."
   ]
  },
  {
   "cell_type": "code",
   "execution_count": null,
   "id": "5159720c",
   "metadata": {},
   "outputs": [],
   "source": [
    "7. For a library management system, you have to design the \"Book\" class with OOP\n",
    "principles in mind. The “Book” class will have following attributes:\n",
    "a. title: Represents the title of the book.\n",
    "b. author: Represents the author(s) of the book.\n",
    "c. isbn: Represents the ISBN (International Standard Book Number) of the book.\n",
    "d. publication_year: Represents the year of publication of the book.\n",
    "e. available_copies: Represents the number of copies available for checkout.\n",
    "The class will also include the following methods:\n",
    "a. check_out(self): Decrements the available copies by one if there are copies\n",
    "available for checkout.\n",
    "b. return_book(self): Increments the available copies by one when a book is\n",
    "returned.\n",
    "c. display_book_info(self): Displays the information about the book, including its\n",
    "attributes and the number of available copies."
   ]
  },
  {
   "cell_type": "code",
   "execution_count": 95,
   "id": "9c592419",
   "metadata": {},
   "outputs": [],
   "source": [
    "class Book:\n",
    "    def __init__(self,title,author,isbn,publication_year,available_copies):\n",
    "        self.title=title\n",
    "        self.author=author\n",
    "        self.isbn=isbn\n",
    "        self.publication_year=publication_year\n",
    "        self.available_copies=available_copies\n",
    "    def check_out(self):\n",
    "        try:\n",
    "            if self.available_copies>0:\n",
    "                self.available_copies=self.available_copies-1\n",
    "            else:\n",
    "                print(\"NO copies available\")\n",
    "        except Exception as e:\n",
    "            print(e)\n",
    "    def return_book(self):\n",
    "        try:\n",
    "            self.available_copies=self.available_copies+1\n",
    "        except Exception as e:\n",
    "            print(e)\n",
    "    def display_book_info(self):\n",
    "        print(f\"book title:{self.title}\\nbook author:{self.author}\\nISBN: {self.isbn}\\nPublicationYear:{self.publication_year} \")\n",
    "        print(f\"Available Copies:{self.available_copies}\")"
   ]
  },
  {
   "cell_type": "code",
   "execution_count": 96,
   "id": "187700f0",
   "metadata": {},
   "outputs": [],
   "source": [
    "o1=Book(\"Python\",\"Bikram\",\"1-2-3\",2020,10)"
   ]
  },
  {
   "cell_type": "code",
   "execution_count": 97,
   "id": "868e54b5",
   "metadata": {},
   "outputs": [],
   "source": [
    "o1.check_out()"
   ]
  },
  {
   "cell_type": "code",
   "execution_count": 98,
   "id": "702b298e",
   "metadata": {},
   "outputs": [
    {
     "name": "stdout",
     "output_type": "stream",
     "text": [
      "book title:Python\n",
      "book author:Bikram\n",
      "ISBN: 1-2-3\n",
      "PublicationYear:2020 \n",
      "Available Copies:9\n"
     ]
    }
   ],
   "source": [
    "o1.display_book_info()"
   ]
  },
  {
   "cell_type": "code",
   "execution_count": 99,
   "id": "62f72c63",
   "metadata": {},
   "outputs": [],
   "source": [
    "o1.return_book()"
   ]
  },
  {
   "cell_type": "code",
   "execution_count": 100,
   "id": "24e621ee",
   "metadata": {},
   "outputs": [
    {
     "name": "stdout",
     "output_type": "stream",
     "text": [
      "book title:Python\n",
      "book author:Bikram\n",
      "ISBN: 1-2-3\n",
      "PublicationYear:2020 \n",
      "Available Copies:10\n"
     ]
    }
   ],
   "source": [
    "o1.display_book_info()"
   ]
  },
  {
   "cell_type": "code",
   "execution_count": null,
   "id": "091c0ba3",
   "metadata": {},
   "outputs": [],
   "source": []
  },
  {
   "cell_type": "code",
   "execution_count": null,
   "id": "8b608263",
   "metadata": {},
   "outputs": [],
   "source": [
    "8. For a ticket booking system, you have to design the \"Ticket\" class with OOP\n",
    "principles in mind. The “Ticket” class should have the following attributes:\n",
    "a. ticket_id: Represents the unique identifier for the ticket.\n",
    "b. event_name: Represents the name of the event.\n",
    "c. event_date: Represents the date of the event.\n",
    "d. venue: Represents the venue of the event.\n",
    "e. seat_number: Represents the seat number associated with the ticket.\n",
    "f. price: Represents the price of the ticket.\n",
    "g. is_reserved: Represents the reservation status of the ticket.\n",
    "The class also includes the following methods:\n",
    "a. reserve_ticket(self): Marks the ticket as reserved if it is not already reserved.\n",
    "b. cancel_reservation(self): Cancels the reservation of the ticket if it is already\n",
    "reserved.\n",
    "c. display_ticket_info(self): Displays the information about the ticket, including its\n",
    "attributes and reservation status."
   ]
  },
  {
   "cell_type": "code",
   "execution_count": 21,
   "id": "87e99a0e",
   "metadata": {},
   "outputs": [],
   "source": [
    "class Ticket:\n",
    "    def __init__(self,ticket_id,event_name,event_date,venue,seat_number,price,is_reserved):\n",
    "        self.ticket_id=ticket_id\n",
    "        self.event_name=event_name\n",
    "        self.event_date=event_date\n",
    "        self.venue=venue\n",
    "        self.seat_number=seat_number\n",
    "        self.price=price\n",
    "        self.is_reserved=is_reserved\n",
    "        \n",
    "    def reserve_ticket(self):\n",
    "        try:\n",
    "            if self.is_reserved!=1:\n",
    "                self.is_reserved=1\n",
    "                print(\"Ticket Reserved\")\n",
    "            else:\n",
    "                print(\"TicketId already reserved\")\n",
    "        except Exception as e:\n",
    "            print(e)\n",
    "    def cancel_reservation(self):\n",
    "        try:\n",
    "            if self.is_reserved==1:\n",
    "                self.is_reserved=0\n",
    "            else:\n",
    "                print(\"no reservation for this ticket\")\n",
    "        except Exception as e:\n",
    "            print(e)\n",
    "    def display_ticket_info(self):\n",
    "        print(\"Ticket Id: \",self.ticket_id)\n",
    "        print(\"Event Name:\",self.event_name)\n",
    "        print(\"Event Date:\",self.event_date)\n",
    "        print(\"venue:\",self.venue)\n",
    "        print(\"Seat Number: \",self.seat_number)\n",
    "        print(\"Price:\",self.price)\n",
    "        if self.is_reserved==0:\n",
    "            print(\"Status: NotReserved\")\n",
    "        else:\n",
    "            print(\"status: Reserved\")"
   ]
  },
  {
   "cell_type": "code",
   "execution_count": 22,
   "id": "745df313",
   "metadata": {},
   "outputs": [],
   "source": [
    "t1=Ticket(101,\"ICC Final\",\"Nov 19\",\"Ahemdabad\",1002,2500,0)"
   ]
  },
  {
   "cell_type": "code",
   "execution_count": 23,
   "id": "d210b8e0",
   "metadata": {},
   "outputs": [
    {
     "name": "stdout",
     "output_type": "stream",
     "text": [
      "Ticket Id:  101\n",
      "Event Name: ICC Final\n",
      "Event Date: Nov 19\n",
      "venue: Ahemdabad\n",
      "Seat Number:  1002\n",
      "Price: 2500\n",
      "Status: NotReserved\n"
     ]
    }
   ],
   "source": [
    "t1.display_ticket_info()"
   ]
  },
  {
   "cell_type": "code",
   "execution_count": 24,
   "id": "26634eb6",
   "metadata": {},
   "outputs": [
    {
     "name": "stdout",
     "output_type": "stream",
     "text": [
      "Ticket Reserved\n"
     ]
    }
   ],
   "source": [
    "t1.reserve_ticket()"
   ]
  },
  {
   "cell_type": "code",
   "execution_count": 25,
   "id": "ae6c963e",
   "metadata": {},
   "outputs": [
    {
     "name": "stdout",
     "output_type": "stream",
     "text": [
      "Ticket Id:  101\n",
      "Event Name: ICC Final\n",
      "Event Date: Nov 19\n",
      "venue: Ahemdabad\n",
      "Seat Number:  1002\n",
      "Price: 2500\n",
      "status: Reserved\n"
     ]
    }
   ],
   "source": [
    "t1.display_ticket_info()"
   ]
  },
  {
   "cell_type": "code",
   "execution_count": 26,
   "id": "f133a581",
   "metadata": {},
   "outputs": [],
   "source": [
    "t1.cancel_reservation()"
   ]
  },
  {
   "cell_type": "code",
   "execution_count": 27,
   "id": "841ce9c8",
   "metadata": {},
   "outputs": [
    {
     "name": "stdout",
     "output_type": "stream",
     "text": [
      "Ticket Id:  101\n",
      "Event Name: ICC Final\n",
      "Event Date: Nov 19\n",
      "venue: Ahemdabad\n",
      "Seat Number:  1002\n",
      "Price: 2500\n",
      "Status: NotReserved\n"
     ]
    }
   ],
   "source": [
    "t1.display_ticket_info()"
   ]
  },
  {
   "cell_type": "code",
   "execution_count": null,
   "id": "3c4d8582",
   "metadata": {},
   "outputs": [],
   "source": []
  },
  {
   "cell_type": "code",
   "execution_count": null,
   "id": "28a493da",
   "metadata": {},
   "outputs": [],
   "source": [
    "9. You are creating a shopping cart for an e-commerce website. Using OOP to model\n",
    "the \"ShoppingCart\" functionality the class should contain following attributes and\n",
    "methods:\n",
    "a. items: Represents the list of items in the shopping cart.\n",
    "The class also includes the following methods:\n",
    "a. add_item(self, item): Adds an item to the shopping cart by appending it to the\n",
    "list of items.\n",
    "b. remove_item(self, item): Removes an item from the shopping cart if it exists in\n",
    "the list.\n",
    "c. view_cart(self): Displays the items currently present in the shopping cart.\n",
    "d. clear_cart(self): Clears all items from the shopping cart by reassigning an\n",
    "empty list to the items attribute."
   ]
  },
  {
   "cell_type": "code",
   "execution_count": 42,
   "id": "13ff5ba9",
   "metadata": {},
   "outputs": [],
   "source": [
    "class ShoppingCart:\n",
    "    def __init__(self):\n",
    "        self.items=[]\n",
    "    def add_item(self,item):\n",
    "        self.items.append(item)\n",
    "        \n",
    "    def remove_item(self,item):\n",
    "        try:\n",
    "            if len(self.items)>0:\n",
    "                self.items.remove(item)\n",
    "            else:\n",
    "                print(\"no Items in shopping cart\")\n",
    "        except Exception as e:\n",
    "            print(e)\n",
    "    def clear_cart(self):\n",
    "        try:\n",
    "            if len(self.items)>0:\n",
    "                self.items.clear()\n",
    "            else:\n",
    "                print(\"no Items in shopping cart\")\n",
    "        except Exception as e:\n",
    "            print(e)\n",
    "                \n",
    "    def view_cart(self):\n",
    "        try:\n",
    "            if len(self.items)>0:\n",
    "                print(self.items)\n",
    "            else:\n",
    "                print(\"No Items in Cart\")\n",
    "        except Exception as e:\n",
    "            print(e)\n",
    "        "
   ]
  },
  {
   "cell_type": "code",
   "execution_count": 43,
   "id": "c93db92b",
   "metadata": {},
   "outputs": [],
   "source": [
    "c=ShoppingCart()"
   ]
  },
  {
   "cell_type": "code",
   "execution_count": 44,
   "id": "171f365b",
   "metadata": {},
   "outputs": [],
   "source": [
    "c.add_item('xyz')"
   ]
  },
  {
   "cell_type": "code",
   "execution_count": 45,
   "id": "0eeebbd5",
   "metadata": {},
   "outputs": [
    {
     "name": "stdout",
     "output_type": "stream",
     "text": [
      "['xyz']\n"
     ]
    }
   ],
   "source": [
    "c.view_cart()"
   ]
  },
  {
   "cell_type": "code",
   "execution_count": 46,
   "id": "dfa3f541",
   "metadata": {},
   "outputs": [],
   "source": [
    "c.add_item('abc')"
   ]
  },
  {
   "cell_type": "code",
   "execution_count": 47,
   "id": "cb248aa5",
   "metadata": {},
   "outputs": [
    {
     "name": "stdout",
     "output_type": "stream",
     "text": [
      "['xyz', 'abc']\n"
     ]
    }
   ],
   "source": [
    "c.view_cart()"
   ]
  },
  {
   "cell_type": "code",
   "execution_count": 48,
   "id": "dd7daefe",
   "metadata": {},
   "outputs": [],
   "source": [
    "c.add_item('pqr')"
   ]
  },
  {
   "cell_type": "code",
   "execution_count": 49,
   "id": "3c33a1b7",
   "metadata": {},
   "outputs": [
    {
     "name": "stdout",
     "output_type": "stream",
     "text": [
      "['xyz', 'abc', 'pqr']\n"
     ]
    }
   ],
   "source": [
    "c.view_cart()"
   ]
  },
  {
   "cell_type": "code",
   "execution_count": 50,
   "id": "4f332523",
   "metadata": {},
   "outputs": [],
   "source": [
    "c.remove_item('xyz')"
   ]
  },
  {
   "cell_type": "code",
   "execution_count": 51,
   "id": "50882536",
   "metadata": {},
   "outputs": [
    {
     "name": "stdout",
     "output_type": "stream",
     "text": [
      "['abc', 'pqr']\n"
     ]
    }
   ],
   "source": [
    "c.view_cart()"
   ]
  },
  {
   "cell_type": "code",
   "execution_count": 52,
   "id": "0bed7b8c",
   "metadata": {},
   "outputs": [],
   "source": [
    "c.clear_cart()"
   ]
  },
  {
   "cell_type": "code",
   "execution_count": 53,
   "id": "194331e9",
   "metadata": {},
   "outputs": [
    {
     "name": "stdout",
     "output_type": "stream",
     "text": [
      "No Items in Cart\n"
     ]
    }
   ],
   "source": [
    "c.view_cart()"
   ]
  },
  {
   "cell_type": "code",
   "execution_count": null,
   "id": "74552658",
   "metadata": {},
   "outputs": [],
   "source": [
    "10. Imagine a school management system. You have to design the \"Student\" class using\n",
    "OOP concepts.The “Student” class has the following attributes:\n",
    "a. name: Represents the name of the student.\n",
    "b. age: Represents the age of the student.\n",
    "c. grade: Represents the grade or class of the student.\n",
    "d. student_id: Represents the unique identifier for the student.\n",
    "e. attendance: Represents the attendance record of the student.\n",
    "The class should also include the following methods:\n",
    "a. update_attendance(self, date, status): Updates the attendance record of the\n",
    "student for a given date with the provided status (e.g., present or absent).\n",
    "b. get_attendance(self): Returns the attendance record of the student.\n",
    "c. get_average_attendance(self): Calculates and returns the average\n",
    "attendance percentage of the student based on their attendance record.\n"
   ]
  },
  {
   "cell_type": "code",
   "execution_count": 68,
   "id": "b2451089",
   "metadata": {},
   "outputs": [],
   "source": [
    "class Student:\n",
    "    def __init__(self,student_id,name,age,grade):\n",
    "        self.student_id=student_id\n",
    "        self.name=name\n",
    "        self.age=age\n",
    "        self.grade=grade\n",
    "        self.attendance={}\n",
    "    def update_attendance(self,date,status):\n",
    "        try:\n",
    "            self.attendance[date]=status\n",
    "        except Exception as e:\n",
    "            print(e)\n",
    "    def get_attendance(self):\n",
    "        try:\n",
    "            print(\"ID :\",self.student_id)\n",
    "            if len(self.attendance)>0:\n",
    "                for key,value in self.attendance.items():\n",
    "                    print(key ,\" : \",value)\n",
    "            else:\n",
    "                print(\"No Updates on Attendance\")\n",
    "        except Exception as e:\n",
    "            print(e)\n",
    "    def get_average_attendance(self):\n",
    "        p=0\n",
    "        a=0\n",
    "        try:\n",
    "            if len(self.attendance)>0:\n",
    "                for key,value in self.attendance.items():\n",
    "                    if value=='present':\n",
    "                        p=p+1                       \n",
    "                    else:                        \n",
    "                        a=a+1 \n",
    "                print(\"Present day:\",p)\n",
    "                print(\"Absent day:\",a)\n",
    "            else:\n",
    "                print(\"No records Found\")\n",
    "        except Exception as e:\n",
    "            print(e)"
   ]
  },
  {
   "cell_type": "code",
   "execution_count": 80,
   "id": "3443b549",
   "metadata": {},
   "outputs": [],
   "source": [
    "s=Student(101,\"Bikram\",20,10)"
   ]
  },
  {
   "cell_type": "code",
   "execution_count": 81,
   "id": "b757a484",
   "metadata": {},
   "outputs": [],
   "source": [
    "p=\"present\"\n",
    "a='absent'"
   ]
  },
  {
   "cell_type": "code",
   "execution_count": null,
   "id": "101635e2",
   "metadata": {},
   "outputs": [],
   "source": []
  },
  {
   "cell_type": "code",
   "execution_count": 82,
   "id": "9e0886f6",
   "metadata": {},
   "outputs": [],
   "source": [
    "s.update_attendance('nov1',p)"
   ]
  },
  {
   "cell_type": "code",
   "execution_count": 83,
   "id": "b4af6a88",
   "metadata": {},
   "outputs": [],
   "source": [
    "s.update_attendance('nov2',p)"
   ]
  },
  {
   "cell_type": "code",
   "execution_count": 84,
   "id": "04f2902d",
   "metadata": {},
   "outputs": [],
   "source": [
    "s.update_attendance('nov3',p)"
   ]
  },
  {
   "cell_type": "code",
   "execution_count": 85,
   "id": "4c2d67a6",
   "metadata": {},
   "outputs": [],
   "source": [
    "s.update_attendance('nov4',p)"
   ]
  },
  {
   "cell_type": "code",
   "execution_count": 86,
   "id": "e5dcc39d",
   "metadata": {},
   "outputs": [],
   "source": [
    "s.update_attendance('nov5',p)"
   ]
  },
  {
   "cell_type": "code",
   "execution_count": 87,
   "id": "cc48e3df",
   "metadata": {},
   "outputs": [
    {
     "name": "stdout",
     "output_type": "stream",
     "text": [
      "ID : 101\n",
      "nov1  :  present\n",
      "nov2  :  present\n",
      "nov3  :  present\n",
      "nov4  :  present\n",
      "nov5  :  present\n"
     ]
    }
   ],
   "source": [
    "s.get_attendance()"
   ]
  },
  {
   "cell_type": "code",
   "execution_count": 88,
   "id": "96ebcfa7",
   "metadata": {},
   "outputs": [],
   "source": [
    "s.update_attendance('nov6',a)"
   ]
  },
  {
   "cell_type": "code",
   "execution_count": 89,
   "id": "632057a3",
   "metadata": {},
   "outputs": [
    {
     "name": "stdout",
     "output_type": "stream",
     "text": [
      "ID : 101\n",
      "nov1  :  present\n",
      "nov2  :  present\n",
      "nov3  :  present\n",
      "nov4  :  present\n",
      "nov5  :  present\n",
      "nov6  :  absent\n"
     ]
    }
   ],
   "source": [
    "s.get_attendance()"
   ]
  },
  {
   "cell_type": "code",
   "execution_count": 90,
   "id": "c0f4a4f5",
   "metadata": {},
   "outputs": [],
   "source": [
    "s.update_attendance('nov7',a)"
   ]
  },
  {
   "cell_type": "code",
   "execution_count": 91,
   "id": "1e8b9b48",
   "metadata": {},
   "outputs": [
    {
     "name": "stdout",
     "output_type": "stream",
     "text": [
      "ID : 101\n",
      "nov1  :  present\n",
      "nov2  :  present\n",
      "nov3  :  present\n",
      "nov4  :  present\n",
      "nov5  :  present\n",
      "nov6  :  absent\n",
      "nov7  :  absent\n"
     ]
    }
   ],
   "source": [
    "s.get_attendance()"
   ]
  },
  {
   "cell_type": "code",
   "execution_count": 92,
   "id": "4b187872",
   "metadata": {},
   "outputs": [],
   "source": [
    "s.update_attendance('nov8',p)"
   ]
  },
  {
   "cell_type": "code",
   "execution_count": 93,
   "id": "40f731ee",
   "metadata": {},
   "outputs": [
    {
     "name": "stdout",
     "output_type": "stream",
     "text": [
      "ID : 101\n",
      "nov1  :  present\n",
      "nov2  :  present\n",
      "nov3  :  present\n",
      "nov4  :  present\n",
      "nov5  :  present\n",
      "nov6  :  absent\n",
      "nov7  :  absent\n",
      "nov8  :  present\n"
     ]
    }
   ],
   "source": [
    "s.get_attendance()"
   ]
  },
  {
   "cell_type": "code",
   "execution_count": 94,
   "id": "6ed36f84",
   "metadata": {},
   "outputs": [
    {
     "name": "stdout",
     "output_type": "stream",
     "text": [
      "Present day: 6\n",
      "Absent day: 2\n"
     ]
    }
   ],
   "source": [
    "s.get_average_attendance()"
   ]
  },
  {
   "cell_type": "code",
   "execution_count": null,
   "id": "edc93381",
   "metadata": {},
   "outputs": [],
   "source": []
  },
  {
   "cell_type": "code",
   "execution_count": null,
   "id": "970803f5",
   "metadata": {},
   "outputs": [],
   "source": []
  },
  {
   "cell_type": "code",
   "execution_count": null,
   "id": "ca4373f6",
   "metadata": {},
   "outputs": [],
   "source": []
  },
  {
   "cell_type": "code",
   "execution_count": null,
   "id": "b6b3e3c8",
   "metadata": {},
   "outputs": [],
   "source": []
  },
  {
   "cell_type": "code",
   "execution_count": null,
   "id": "9a9598d0",
   "metadata": {},
   "outputs": [],
   "source": []
  },
  {
   "cell_type": "code",
   "execution_count": null,
   "id": "c70e1d15",
   "metadata": {},
   "outputs": [],
   "source": []
  },
  {
   "cell_type": "code",
   "execution_count": null,
   "id": "3a658e65",
   "metadata": {},
   "outputs": [],
   "source": []
  },
  {
   "cell_type": "code",
   "execution_count": 55,
   "id": "5388d774",
   "metadata": {},
   "outputs": [],
   "source": [
    "attendance={\n",
    "    \"nov1\":\"present\"\n",
    "}"
   ]
  },
  {
   "cell_type": "code",
   "execution_count": 56,
   "id": "aecc42f2",
   "metadata": {},
   "outputs": [
    {
     "data": {
      "text/plain": [
       "{'nov1': 'present'}"
      ]
     },
     "execution_count": 56,
     "metadata": {},
     "output_type": "execute_result"
    }
   ],
   "source": [
    "attendance"
   ]
  },
  {
   "cell_type": "code",
   "execution_count": 57,
   "id": "fe4e8d59",
   "metadata": {},
   "outputs": [],
   "source": [
    "attendance['nov2']='absent'"
   ]
  },
  {
   "cell_type": "code",
   "execution_count": 58,
   "id": "82dcb56e",
   "metadata": {},
   "outputs": [
    {
     "data": {
      "text/plain": [
       "{'nov1': 'present', 'nov2': 'absent'}"
      ]
     },
     "execution_count": 58,
     "metadata": {},
     "output_type": "execute_result"
    }
   ],
   "source": [
    "attendance"
   ]
  },
  {
   "cell_type": "code",
   "execution_count": 60,
   "id": "b4e022ef",
   "metadata": {},
   "outputs": [],
   "source": [
    "date='nov3'"
   ]
  },
  {
   "cell_type": "code",
   "execution_count": 62,
   "id": "c58d3a13",
   "metadata": {},
   "outputs": [],
   "source": [
    "attendance[date]=\"absent\""
   ]
  },
  {
   "cell_type": "code",
   "execution_count": 63,
   "id": "19b38436",
   "metadata": {},
   "outputs": [
    {
     "data": {
      "text/plain": [
       "{'nov1': 'present', 'nov2': 'absent', 'nov3': 'absent'}"
      ]
     },
     "execution_count": 63,
     "metadata": {},
     "output_type": "execute_result"
    }
   ],
   "source": [
    "attendance"
   ]
  },
  {
   "cell_type": "code",
   "execution_count": 64,
   "id": "da419711",
   "metadata": {},
   "outputs": [
    {
     "data": {
      "text/plain": [
       "3"
      ]
     },
     "execution_count": 64,
     "metadata": {},
     "output_type": "execute_result"
    }
   ],
   "source": [
    "len(attendance)"
   ]
  },
  {
   "cell_type": "code",
   "execution_count": null,
   "id": "c8a8c748",
   "metadata": {},
   "outputs": [],
   "source": []
  }
 ],
 "metadata": {
  "kernelspec": {
   "display_name": "Python 3 (ipykernel)",
   "language": "python",
   "name": "python3"
  },
  "language_info": {
   "codemirror_mode": {
    "name": "ipython",
    "version": 3
   },
   "file_extension": ".py",
   "mimetype": "text/x-python",
   "name": "python",
   "nbconvert_exporter": "python",
   "pygments_lexer": "ipython3",
   "version": "3.11.3"
  }
 },
 "nbformat": 4,
 "nbformat_minor": 5
}
