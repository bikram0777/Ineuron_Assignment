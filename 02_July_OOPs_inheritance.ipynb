{
 "cells": [
  {
   "cell_type": "code",
   "execution_count": null,
   "id": "64c6de6b",
   "metadata": {},
   "outputs": [],
   "source": [
    "1. Explain what inheritance is in object-oriented programming and why it is used."
   ]
  },
  {
   "cell_type": "code",
   "execution_count": null,
   "id": "fe06b027",
   "metadata": {},
   "outputs": [],
   "source": [
    "\n",
    "Inheritance is a fundamental concept in object-oriented programming (OOP)\n",
    "that allows one class (the subclass or derived class) to inherit \n",
    "the attributes and methods of another class (the superclass or base class)\n",
    "\n",
    "It is used to achieve code reusability and extensibility."
   ]
  },
  {
   "cell_type": "code",
   "execution_count": null,
   "id": "3dda1a0c",
   "metadata": {},
   "outputs": [],
   "source": [
    "2. Discuss the concept of single inheritance and multiple inheritance, highlighting their\n",
    "differences and advantages."
   ]
  },
  {
   "cell_type": "code",
   "execution_count": null,
   "id": "6ee87bf4",
   "metadata": {},
   "outputs": [],
   "source": [
    "Single Inheritance\n",
    "Single inheritance is a type of inheritance in which a class can only inherit from one base class.\n",
    "This results in a tree hierarchy of classes, where each class is related to its parent class by an \"is-a\" relationship.\n",
    "Advantages:\n",
    "Single inheritance is simpler to understand and implement than multiple inheritance.\n",
    "Single inheritance leads to less complex class hierarchies, which are easier to maintain.\n",
    "Single inheritance avoids ambiguity in cases where multiple base classes define the same member.\n",
    "Single inheritance is more efficient, as the compiler does not need to resolve conflicts between multiple base classes.\n",
    "eg.\n",
    "class Vehicle:\n",
    "    pass\n",
    "class Car(Vehicle):\n",
    "    pass\n",
    "\n",
    "Car class is derived from Vehicle class"
   ]
  },
  {
   "cell_type": "code",
   "execution_count": null,
   "id": "83e95f83",
   "metadata": {},
   "outputs": [],
   "source": [
    "Multiple Inheritance\n",
    "Concept: Multiple inheritance is a type of inheritance in which a class can inherit from multiple base classes.\n",
    "This results in a directed acyclic graph (DAG) of classes, where a class can have multiple parents.\n",
    "Advantages:\n",
    "Multiple inheritance allows for greater reuse of code and flexibility in class design.\n",
    "Multiple inheritance can be used to model real-world entities more accurately, as many entities have multiple characteristics.\n",
    "Multiple inheritance can be used to create mixin classes, which can be used to add specific functionality to classes without having to subclass them.\n",
    "eg.\n",
    "class Person:\n",
    "    pass\n",
    "class Employee:\n",
    "    pass\n",
    "class Manager(Person,Employee):\n",
    "    pass\n",
    "# here Manager class is derived from Person and Employee class\n"
   ]
  },
  {
   "cell_type": "code",
   "execution_count": null,
   "id": "9dd3506d",
   "metadata": {},
   "outputs": [],
   "source": [
    "3. Explain the terms \"base class\" and \"derived class\" in the context of inheritance."
   ]
  },
  {
   "cell_type": "code",
   "execution_count": null,
   "id": "b3c5a7bb",
   "metadata": {},
   "outputs": [],
   "source": [
    "Base class is the parent class from where another class can be derived.\n",
    "Derived class is the child class which is derived from base class.\n",
    "eg.\n",
    "class Base:\n",
    "    pass\n",
    "class Derived(Base):\n",
    "    pass\n",
    "# here Base is the base class and Derived is the derived class"
   ]
  },
  {
   "cell_type": "code",
   "execution_count": null,
   "id": "0c5eb2ef",
   "metadata": {},
   "outputs": [],
   "source": [
    "4. What is the significance of the \"protected\" access modifier in inheritance? How does\n",
    "it differ from \"private\" and \"public\" modifiers?"
   ]
  },
  {
   "cell_type": "code",
   "execution_count": null,
   "id": "6de8453f",
   "metadata": {},
   "outputs": [],
   "source": [
    "In Python, the protected access modifier is used to indicate that a member of a class\n",
    "should only be accessed by subclasses of that class, both within and outside of the same package. \n",
    "This is different from the private access modifier, which restricts access to members of a class to within the class itself.\n",
    "The public access modifier, on the other hand, allows members of a class to be accessed from anywhere in the program."
   ]
  },
  {
   "cell_type": "code",
   "execution_count": null,
   "id": "31d3f77d",
   "metadata": {},
   "outputs": [],
   "source": [
    "5. What is the purpose of the \"super\" keyword in inheritance? Provide an example."
   ]
  },
  {
   "cell_type": "code",
   "execution_count": null,
   "id": "0e55e162",
   "metadata": {},
   "outputs": [],
   "source": [
    "\n",
    "The super keyword in Python is used to call the parent class's constructor and methods.\n",
    "It is commonly used in inheritance to allow subclasses to access and specialize the behavior of their parent classes"
   ]
  },
  {
   "cell_type": "code",
   "execution_count": 4,
   "id": "cf05e262",
   "metadata": {},
   "outputs": [],
   "source": [
    "class Base:\n",
    "    def __init__(self):\n",
    "        print(\"I am base class constructor\")\n",
    "    def fun(self):\n",
    "        print(\"i am base class function\")\n",
    "class Derived(Base):\n",
    "    def __init__(self):\n",
    "        print(\"i am derived class constructor\")\n",
    "    def fun(self):\n",
    "        print(\"i am derived class function\")"
   ]
  },
  {
   "cell_type": "code",
   "execution_count": 5,
   "id": "b511f0c0",
   "metadata": {},
   "outputs": [
    {
     "name": "stdout",
     "output_type": "stream",
     "text": [
      "i am derived class constructor\n",
      "i am derived class function\n"
     ]
    }
   ],
   "source": [
    "d=Derived()\n",
    "d.fun()"
   ]
  },
  {
   "cell_type": "code",
   "execution_count": null,
   "id": "24767dc4",
   "metadata": {},
   "outputs": [],
   "source": [
    "here only derived class constructor and function are called by the object."
   ]
  },
  {
   "cell_type": "code",
   "execution_count": 12,
   "id": "420beaaa",
   "metadata": {},
   "outputs": [],
   "source": [
    "class Base:\n",
    "    def __init__(self):\n",
    "        print(\"I am base class constructor\")\n",
    "    def fun(self):\n",
    "        print(\"i am base class function\")\n",
    "class Derived(Base):\n",
    "    def __init__(self):\n",
    "        super().__init__()\n",
    "        print(\"i am derived class constructor\")\n",
    "    def fun(self):\n",
    "        super().fun()\n",
    "        print(\"i am derived class function\")"
   ]
  },
  {
   "cell_type": "code",
   "execution_count": 13,
   "id": "fdbaef57",
   "metadata": {},
   "outputs": [
    {
     "name": "stdout",
     "output_type": "stream",
     "text": [
      "I am base class constructor\n",
      "i am derived class constructor\n"
     ]
    }
   ],
   "source": [
    "d1=Derived()"
   ]
  },
  {
   "cell_type": "code",
   "execution_count": 14,
   "id": "b96838f0",
   "metadata": {},
   "outputs": [
    {
     "name": "stdout",
     "output_type": "stream",
     "text": [
      "i am base class function\n",
      "i am derived class function\n"
     ]
    }
   ],
   "source": [
    "d1.fun()"
   ]
  },
  {
   "cell_type": "code",
   "execution_count": null,
   "id": "f2df61f4",
   "metadata": {},
   "outputs": [],
   "source": [
    "here both base and derived class constructor and function  are called"
   ]
  },
  {
   "cell_type": "code",
   "execution_count": null,
   "id": "f4d641b8",
   "metadata": {},
   "outputs": [],
   "source": [
    "6. Create a base class called \"Vehicle\" with attributes like \"make\", \"model\", and \"year\".\n",
    "Then, create a derived class called \"Car\" that inherits from \"Vehicle\" and adds an\n",
    "attribute called \"fuel_type\". Implement appropriate methods in both classes."
   ]
  },
  {
   "cell_type": "code",
   "execution_count": 11,
   "id": "cc288625",
   "metadata": {},
   "outputs": [],
   "source": [
    "class Vehicle:\n",
    "    def __init__(self,make,model,year):\n",
    "        self.make=make\n",
    "        self.model=model\n",
    "        self.year=year\n",
    "    def display(self):\n",
    "        print(\"Vehicle Details\")\n",
    "        print(\"Make: \",self.make)\n",
    "        print(\"Model: \",self.model)\n",
    "        print(\"Year: \",self.year)"
   ]
  },
  {
   "cell_type": "code",
   "execution_count": 12,
   "id": "16c06fbd",
   "metadata": {},
   "outputs": [],
   "source": [
    "class Car(Vehicle):\n",
    "    def __init__(self,make,model,year,fuel_type):\n",
    "        super().__init__(make,model,year)\n",
    "        self.fuel_type=fuel_type\n",
    "    def display(self):\n",
    "        super().display()\n",
    "        print(\"Fuel Type: \",self.fuel_type)"
   ]
  },
  {
   "cell_type": "code",
   "execution_count": 13,
   "id": "8115db95",
   "metadata": {},
   "outputs": [],
   "source": [
    "p=Car('xyz','suv',2020,\"petrol\")"
   ]
  },
  {
   "cell_type": "code",
   "execution_count": 14,
   "id": "0fd889be",
   "metadata": {},
   "outputs": [
    {
     "name": "stdout",
     "output_type": "stream",
     "text": [
      "Vehicle Details\n",
      "Make:  xyz\n",
      "Model:  suv\n",
      "Year:  2020\n",
      "Fuel Type:  petrol\n"
     ]
    }
   ],
   "source": [
    "p.display()"
   ]
  },
  {
   "cell_type": "code",
   "execution_count": 15,
   "id": "82a11b0a",
   "metadata": {},
   "outputs": [],
   "source": [
    "d=Car('abc','pqr',2021,'diesel')"
   ]
  },
  {
   "cell_type": "code",
   "execution_count": 16,
   "id": "a5943a91",
   "metadata": {},
   "outputs": [
    {
     "name": "stdout",
     "output_type": "stream",
     "text": [
      "Vehicle Details\n",
      "Make:  abc\n",
      "Model:  pqr\n",
      "Year:  2021\n",
      "Fuel Type:  diesel\n"
     ]
    }
   ],
   "source": [
    "d.display()"
   ]
  },
  {
   "cell_type": "code",
   "execution_count": null,
   "id": "00ac15cf",
   "metadata": {},
   "outputs": [],
   "source": []
  },
  {
   "cell_type": "code",
   "execution_count": null,
   "id": "52d4ce1c",
   "metadata": {},
   "outputs": [],
   "source": [
    "7. Create a base class called \"Employee\" with attributes like \"name\" and \"salary.\"\n",
    "Derive two classes, \"Manager\" and \"Developer,\" from \"Employee.\" Add an additional\n",
    "attribute called \"department\" for the \"Manager\" class and \"programming_language\"\n",
    "for the \"Developer\" class."
   ]
  },
  {
   "cell_type": "code",
   "execution_count": 17,
   "id": "0b48a805",
   "metadata": {},
   "outputs": [],
   "source": [
    "class Employee:\n",
    "    def __init__(self,name,salary):\n",
    "        self.name=name\n",
    "        self.salary=salary\n",
    "    def display(self):\n",
    "        print(\"Name: \",self.name)\n",
    "        print(\"Salary: \",self.salary)"
   ]
  },
  {
   "cell_type": "code",
   "execution_count": 18,
   "id": "787e16cb",
   "metadata": {},
   "outputs": [],
   "source": [
    "class Manager(Employee):\n",
    "    def __init__(self,name,salary,department):\n",
    "        super().__init__(name,salary)\n",
    "        self.department=department\n",
    "    def display(self):\n",
    "        super().display()\n",
    "        print(\"Department: \",self.department)"
   ]
  },
  {
   "cell_type": "code",
   "execution_count": 29,
   "id": "2b959050",
   "metadata": {},
   "outputs": [],
   "source": [
    "class Developer(Employee):\n",
    "    def __init__(self,name,salary,pl):\n",
    "        super().__init__(name,salary)\n",
    "        self.pl=pl\n",
    "    def display(self):\n",
    "        super().display()\n",
    "        print(\"Programming language: \",self.pl)"
   ]
  },
  {
   "cell_type": "code",
   "execution_count": 30,
   "id": "dc98cdac",
   "metadata": {},
   "outputs": [],
   "source": [
    "m=Manager(\"Bikram\",200,\"ECT\")"
   ]
  },
  {
   "cell_type": "code",
   "execution_count": 31,
   "id": "990083c5",
   "metadata": {},
   "outputs": [
    {
     "name": "stdout",
     "output_type": "stream",
     "text": [
      "Name:  Bikram\n",
      "Salary:  200\n",
      "Department:  ECT\n"
     ]
    }
   ],
   "source": [
    "m.display()"
   ]
  },
  {
   "cell_type": "code",
   "execution_count": 32,
   "id": "555804bb",
   "metadata": {},
   "outputs": [],
   "source": [
    "d=Developer(\"Vikky\",300,\"python\")"
   ]
  },
  {
   "cell_type": "code",
   "execution_count": 33,
   "id": "248330a2",
   "metadata": {},
   "outputs": [
    {
     "name": "stdout",
     "output_type": "stream",
     "text": [
      "Name:  Vikky\n",
      "Salary:  300\n",
      "Programming language:  python\n"
     ]
    }
   ],
   "source": [
    "d.display()"
   ]
  },
  {
   "cell_type": "code",
   "execution_count": null,
   "id": "80d21d4a",
   "metadata": {},
   "outputs": [],
   "source": []
  },
  {
   "cell_type": "code",
   "execution_count": null,
   "id": "1b42fab9",
   "metadata": {},
   "outputs": [],
   "source": [
    "8. Design a base class called \"Shape\" with attributes like \"colour\" and \"border_width.\"\n",
    "Create derived classes, \"Rectangle\" and \"Circle,\" that inherit from \"Shape\" and add\n",
    "specific attributes like \"length\" and \"width\" for the \"Rectangle\" class and \"radius\" for\n",
    "the \"Circle\" class."
   ]
  },
  {
   "cell_type": "code",
   "execution_count": 34,
   "id": "8fa1b4d8",
   "metadata": {},
   "outputs": [],
   "source": [
    "class Shape:\n",
    "    def __init__(self,color,border_width):\n",
    "        self.color=color\n",
    "        self.border_width=border_width\n",
    "    def display(self):\n",
    "        print(\"Shape Color: \",self.color)\n",
    "        print(\"Border Width: \",self.border_width)"
   ]
  },
  {
   "cell_type": "code",
   "execution_count": 35,
   "id": "265eb540",
   "metadata": {},
   "outputs": [],
   "source": [
    "class Rectangle(Shape):\n",
    "    def __init__(self,color,border_width,length,width):\n",
    "        super().__init__(color,border_width)\n",
    "        self.length=length\n",
    "        self.width=width\n",
    "    def display(self):\n",
    "        super().display()\n",
    "        print(\"Length: \",self.length)\n",
    "        print(\"Breadth: \",self.width )\n",
    "    def calc_area(self):\n",
    "        return self.length*self.width"
   ]
  },
  {
   "cell_type": "code",
   "execution_count": 43,
   "id": "274dc450",
   "metadata": {},
   "outputs": [],
   "source": [
    "class Circle(Shape):\n",
    "    def __init__(self,color,border_width,radius):\n",
    "        super().__init__(color,border_width)\n",
    "        self.radius=radius\n",
    "    def display(self):\n",
    "        super().display()\n",
    "        print(\"Radius: \",self.radius)\n",
    "    def calc_area(self):\n",
    "        return self.radius**2*3.14"
   ]
  },
  {
   "cell_type": "code",
   "execution_count": 44,
   "id": "7eb90af6",
   "metadata": {},
   "outputs": [],
   "source": [
    "r=Rectangle('black',5,4,5)"
   ]
  },
  {
   "cell_type": "code",
   "execution_count": 45,
   "id": "ce2d225e",
   "metadata": {},
   "outputs": [
    {
     "name": "stdout",
     "output_type": "stream",
     "text": [
      "Shape Color:  black\n",
      "Border Width:  5\n",
      "Length:  4\n",
      "Breadth:  5\n"
     ]
    }
   ],
   "source": [
    "r.display()"
   ]
  },
  {
   "cell_type": "code",
   "execution_count": 46,
   "id": "d416d130",
   "metadata": {},
   "outputs": [
    {
     "name": "stdout",
     "output_type": "stream",
     "text": [
      "the area of Rectangle is 20\n"
     ]
    }
   ],
   "source": [
    "print(\"the area of Rectangle is\",r.calc_area())"
   ]
  },
  {
   "cell_type": "code",
   "execution_count": 47,
   "id": "a17d2764",
   "metadata": {},
   "outputs": [],
   "source": [
    "c=Circle('red',4,7)"
   ]
  },
  {
   "cell_type": "code",
   "execution_count": 48,
   "id": "1e29c7a3",
   "metadata": {},
   "outputs": [
    {
     "name": "stdout",
     "output_type": "stream",
     "text": [
      "Shape Color:  red\n",
      "Border Width:  4\n",
      "Radius:  7\n"
     ]
    }
   ],
   "source": [
    "c.display()"
   ]
  },
  {
   "cell_type": "code",
   "execution_count": 50,
   "id": "3cf04dfb",
   "metadata": {},
   "outputs": [
    {
     "name": "stdout",
     "output_type": "stream",
     "text": [
      "the Area of Circle is 153.86\n"
     ]
    }
   ],
   "source": [
    "print(\"the Area of Circle is\",c.calc_area())"
   ]
  },
  {
   "cell_type": "code",
   "execution_count": null,
   "id": "59556973",
   "metadata": {},
   "outputs": [],
   "source": []
  },
  {
   "cell_type": "code",
   "execution_count": null,
   "id": "dddf0f7c",
   "metadata": {},
   "outputs": [],
   "source": [
    "9. Create a base class called \"Device\" with attributes like \"brand\" and \"model.\" Derive\n",
    "two classes, \"Phone\" and \"Tablet,\" from \"Device.\" Add specific attributes like\n",
    "\"screen_size\" for the \"Phone\" class and \"battery_capacity\" for the \"Tablet\" class."
   ]
  },
  {
   "cell_type": "code",
   "execution_count": 54,
   "id": "3cbedc6e",
   "metadata": {},
   "outputs": [],
   "source": [
    "class Device:\n",
    "    def __init__(self,brand,model):\n",
    "        self.brand=brand\n",
    "        self.model=model\n",
    "    def display(self):\n",
    "        print(\"Brand: \",self.brand)\n",
    "        print(\"Model: \",self.model)\n"
   ]
  },
  {
   "cell_type": "code",
   "execution_count": 55,
   "id": "99eb2a06",
   "metadata": {},
   "outputs": [],
   "source": [
    "class Phone(Device):\n",
    "    def __init__(self,brand,model,screen_size):\n",
    "        super().__init__(brand,model)\n",
    "        self.screen_size=screen_size\n",
    "    def display(self):\n",
    "        super().display()\n",
    "        print(\"Screen Size: \",self.screen_size)"
   ]
  },
  {
   "cell_type": "code",
   "execution_count": 56,
   "id": "05a87a9c",
   "metadata": {},
   "outputs": [],
   "source": [
    "class Tablet(Device):\n",
    "    def __init__(self,brand,model,bat_capacity):\n",
    "        super().__init__(brand,model)\n",
    "        self.bat_capacity=bat_capacity\n",
    "    def display(self):\n",
    "        super().display()\n",
    "        print(\"Battery Capacity: \",self.bat_capacity)"
   ]
  },
  {
   "cell_type": "code",
   "execution_count": 58,
   "id": "13172d3b",
   "metadata": {},
   "outputs": [],
   "source": [
    "ph=Phone(\"samsung\",\"S23\",\"4x6\")"
   ]
  },
  {
   "cell_type": "code",
   "execution_count": 60,
   "id": "995690b0",
   "metadata": {},
   "outputs": [
    {
     "name": "stdout",
     "output_type": "stream",
     "text": [
      "Brand:  samsung\n",
      "Model:  S23\n",
      "Screen Size:  4x6\n"
     ]
    }
   ],
   "source": [
    "ph.display()"
   ]
  },
  {
   "cell_type": "code",
   "execution_count": 61,
   "id": "58e5331a",
   "metadata": {},
   "outputs": [],
   "source": [
    "tab=Tablet(\"apple\",\"X23\",95)"
   ]
  },
  {
   "cell_type": "code",
   "execution_count": 62,
   "id": "485b3038",
   "metadata": {},
   "outputs": [
    {
     "name": "stdout",
     "output_type": "stream",
     "text": [
      "Brand:  apple\n",
      "Model:  X23\n",
      "Battery Capacity:  95\n"
     ]
    }
   ],
   "source": [
    "tab.display()"
   ]
  },
  {
   "cell_type": "code",
   "execution_count": null,
   "id": "f2275ea9",
   "metadata": {},
   "outputs": [],
   "source": []
  },
  {
   "cell_type": "code",
   "execution_count": null,
   "id": "a7327111",
   "metadata": {},
   "outputs": [],
   "source": [
    "10. Create a base class called \"BankAccount\" with attributes like \"account_number\" and\n",
    "\"balance.\" Derive two classes, \"SavingsAccount\" and \"CheckingAccount,\" from\n",
    "\"BankAccount.\" Add specific methods like \"calculate_interest\" for the\n",
    "\"SavingsAccount\" class and \"deduct_fees\" for the \"CheckingAccount\" class."
   ]
  },
  {
   "cell_type": "code",
   "execution_count": 63,
   "id": "c9ecd3aa",
   "metadata": {},
   "outputs": [],
   "source": [
    "class BankAccount:\n",
    "    def __init__(self,acc_num,bal):\n",
    "        self.acc_num=acc_num\n",
    "        self.bal=bal\n",
    "    def display(self):\n",
    "        print(\"Account Num: \",self.acc_num)\n",
    "        print(\"Available Balance: \".self.bal)"
   ]
  },
  {
   "cell_type": "code",
   "execution_count": 67,
   "id": "be7c4e7d",
   "metadata": {},
   "outputs": [],
   "source": [
    "class SavingsAccount(BankAccount):\n",
    "    def __init__(self,acc_num,bal,int_rate):\n",
    "        super().__init__(acc_num,bal)\n",
    "        self.int_rate=int_rate\n",
    "    def calculate_interest(self):\n",
    "        interest=(self.bal*1*self.int_rate)/100\n",
    "        return interest"
   ]
  },
  {
   "cell_type": "code",
   "execution_count": 73,
   "id": "8362d57c",
   "metadata": {},
   "outputs": [],
   "source": [
    "class CheckingAccount(BankAccount):\n",
    "    def __init__(self,acc_num,bal,fee_rate):\n",
    "        super().__init__(acc_num,bal)\n",
    "        self.fee_rate=fee_rate\n",
    "    def deduct_fees(self):\n",
    "        fee=self.bal*self.fee_rate/100\n",
    "        return fee"
   ]
  },
  {
   "cell_type": "code",
   "execution_count": 74,
   "id": "049af011",
   "metadata": {},
   "outputs": [],
   "source": [
    "sav=SavingsAccount('101',1000,12)"
   ]
  },
  {
   "cell_type": "code",
   "execution_count": 75,
   "id": "4862d904",
   "metadata": {},
   "outputs": [
    {
     "name": "stdout",
     "output_type": "stream",
     "text": [
      "interest is: 120.0\n"
     ]
    }
   ],
   "source": [
    "print(\"interest is:\",sav.calculate_interest())"
   ]
  },
  {
   "cell_type": "code",
   "execution_count": 76,
   "id": "3038ec55",
   "metadata": {},
   "outputs": [],
   "source": [
    "ca=CheckingAccount('102',1000,14)"
   ]
  },
  {
   "cell_type": "code",
   "execution_count": 78,
   "id": "df4cfeef",
   "metadata": {},
   "outputs": [
    {
     "data": {
      "text/plain": [
       "140.0"
      ]
     },
     "execution_count": 78,
     "metadata": {},
     "output_type": "execute_result"
    }
   ],
   "source": [
    "ca.deduct_fees()"
   ]
  },
  {
   "cell_type": "code",
   "execution_count": null,
   "id": "4ae3401c",
   "metadata": {},
   "outputs": [],
   "source": []
  }
 ],
 "metadata": {
  "kernelspec": {
   "display_name": "Python 3 (ipykernel)",
   "language": "python",
   "name": "python3"
  },
  "language_info": {
   "codemirror_mode": {
    "name": "ipython",
    "version": 3
   },
   "file_extension": ".py",
   "mimetype": "text/x-python",
   "name": "python",
   "nbconvert_exporter": "python",
   "pygments_lexer": "ipython3",
   "version": "3.11.3"
  }
 },
 "nbformat": 4,
 "nbformat_minor": 5
}
