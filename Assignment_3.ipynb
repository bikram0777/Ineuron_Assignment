{
 "cells": [
  {
   "cell_type": "markdown",
   "id": "106f98fe",
   "metadata": {},
   "source": [
    "1. Why are functions advantageous to have in your programs?"
   ]
  },
  {
   "cell_type": "raw",
   "id": "6b663bb2",
   "metadata": {},
   "source": [
    "The functions are advantageous to have in our programs bwcause they have following advantages:\n",
    "    1. they helps in modular prgramming\n",
    "    2. code reusability is possible\n",
    "    3. a large program can be divided in to smaller using functions.\n",
    "    4. with functions, program becomes easy to understand and debug."
   ]
  },
  {
   "cell_type": "markdown",
   "id": "8e7ff63b",
   "metadata": {},
   "source": [
    "2. When does the code in a function run: when it's specified or when it's called?"
   ]
  },
  {
   "cell_type": "raw",
   "id": "37a4e571",
   "metadata": {},
   "source": [
    "the code in the functions runs when the function is called or invoked."
   ]
  },
  {
   "cell_type": "markdown",
   "id": "4133c5e3",
   "metadata": {},
   "source": [
    "3. What statement creates a function?"
   ]
  },
  {
   "cell_type": "raw",
   "id": "8be18c89",
   "metadata": {},
   "source": [
    "\"def \" statement creates a function.\n",
    "eg. def add(a,b):\n",
    "        return a+b"
   ]
  },
  {
   "cell_type": "markdown",
   "id": "3891c76a",
   "metadata": {},
   "source": [
    "4. What is the difference between a function and a function call?"
   ]
  },
  {
   "cell_type": "raw",
   "id": "79470cc0",
   "metadata": {},
   "source": [
    "the difference between function and function call is:\n",
    "    a function is a piece of reusable code which gets executed when it is called.\n",
    "    a function call is a way of invoking the code defined in function."
   ]
  },
  {
   "cell_type": "markdown",
   "id": "5b167acf",
   "metadata": {},
   "source": [
    "5. How many global scopes are there in a Python program? How many local scopes?"
   ]
  },
  {
   "cell_type": "raw",
   "id": "24dfec71",
   "metadata": {},
   "source": [
    "in python program there can be multiple global scopes and multiple local scopes."
   ]
  },
  {
   "cell_type": "markdown",
   "id": "322b76df",
   "metadata": {},
   "source": [
    "6. What happens to variables in a local scope when the function call returns?"
   ]
  },
  {
   "cell_type": "raw",
   "id": "5c304ae0",
   "metadata": {},
   "source": [
    "The scope of local varaible is within the function. so when the function call returns,the local variable gets destroyed.\n",
    "That means the effect of change in local variable will not be reflected on main function. Also the memory allocated for the variable is deallocated."
   ]
  },
  {
   "cell_type": "markdown",
   "id": "2fffeb02",
   "metadata": {},
   "source": [
    "7. What is the concept of a return value? Is it possible to have a return value in an expression?"
   ]
  },
  {
   "cell_type": "raw",
   "id": "d2618487",
   "metadata": {},
   "source": [
    "whenever a function is called, the code inside the function gets executed. It means some task is done. The task done is returned to the place from where the function is called.This mechanism is called return value.\n",
    "Yes, it is possible to have a return value in an expression.\n",
    "eg.\n",
    "def add(a,b):\n",
    "    return a+b"
   ]
  },
  {
   "cell_type": "markdown",
   "id": "6b812467",
   "metadata": {},
   "source": [
    "8. If a function does not have a return statement, what is the return value of a call to that function?"
   ]
  },
  {
   "cell_type": "raw",
   "id": "2063873d",
   "metadata": {},
   "source": [
    "if a function does not have a return statement,the code gets executed and it returns None value.\n",
    "eg."
   ]
  },
  {
   "cell_type": "code",
   "execution_count": 1,
   "id": "9c4c020e",
   "metadata": {},
   "outputs": [],
   "source": [
    "def add(a,b):\n",
    "    sum=a+b\n",
    "    print(f\"the sum is {sum}\")"
   ]
  },
  {
   "cell_type": "code",
   "execution_count": 2,
   "id": "bb307ec6",
   "metadata": {},
   "outputs": [
    {
     "name": "stdout",
     "output_type": "stream",
     "text": [
      "the sum is 12\n"
     ]
    }
   ],
   "source": [
    "add(5,7)"
   ]
  },
  {
   "cell_type": "markdown",
   "id": "ad691d31",
   "metadata": {},
   "source": [
    "9. How do you make a function variable refer to the global variable?"
   ]
  },
  {
   "cell_type": "raw",
   "id": "1356d2f4",
   "metadata": {},
   "source": [
    "we can make a function variable refer to the global variable using \"global\" keyword."
   ]
  },
  {
   "cell_type": "code",
   "execution_count": 3,
   "id": "ad17ec82",
   "metadata": {},
   "outputs": [],
   "source": [
    "a=10\n",
    "def fun():\n",
    "    global a\n",
    "    print(a)"
   ]
  },
  {
   "cell_type": "code",
   "execution_count": 4,
   "id": "bc882cc3",
   "metadata": {},
   "outputs": [
    {
     "name": "stdout",
     "output_type": "stream",
     "text": [
      "10\n"
     ]
    }
   ],
   "source": [
    "fun()"
   ]
  },
  {
   "cell_type": "markdown",
   "id": "906676b7",
   "metadata": {},
   "source": [
    "10. What is the data type of None?"
   ]
  },
  {
   "cell_type": "raw",
   "id": "ea2caaab",
   "metadata": {},
   "source": [
    "# the datatype of None is NoneType.\n",
    "eg."
   ]
  },
  {
   "cell_type": "code",
   "execution_count": 6,
   "id": "ca4d8949",
   "metadata": {},
   "outputs": [
    {
     "data": {
      "text/plain": [
       "NoneType"
      ]
     },
     "execution_count": 6,
     "metadata": {},
     "output_type": "execute_result"
    }
   ],
   "source": [
    "type(None)"
   ]
  },
  {
   "cell_type": "markdown",
   "id": "599d099d",
   "metadata": {},
   "source": [
    "11. What does the sentence import areallyourpetsnamederic do?"
   ]
  },
  {
   "cell_type": "raw",
   "id": "7735a44f",
   "metadata": {},
   "source": [
    "it will import the class or package named \"areallyourpetsnamederic\"."
   ]
  },
  {
   "cell_type": "markdown",
   "id": "d904feac",
   "metadata": {},
   "source": [
    "12. If you had a bacon() feature in a spam module, what would you call it after importing spam?"
   ]
  },
  {
   "cell_type": "raw",
   "id": "d1ab8e53",
   "metadata": {},
   "source": [
    "we can in following way.\n",
    "import spam\n",
    "spam.bacon()"
   ]
  },
  {
   "cell_type": "markdown",
   "id": "64010d61",
   "metadata": {},
   "source": [
    "13. What can you do to save a programme from crashing if it encounters an error?"
   ]
  },
  {
   "cell_type": "raw",
   "id": "044a68a7",
   "metadata": {},
   "source": [
    "for saving from abnormal termination of program or crashing of program we can use try except block.\n",
    "try:\n",
    "    error prone code\n",
    "except exception_type:\n",
    "    mechanism to handle error or message when error occurs\n",
    "finally:\n",
    "    code that should execute even after the error"
   ]
  },
  {
   "cell_type": "markdown",
   "id": "b1f9cc84",
   "metadata": {},
   "source": [
    "14. What is the purpose of the try clause? What is the purpose of the except clause?"
   ]
  },
  {
   "cell_type": "raw",
   "id": "0517c26f",
   "metadata": {},
   "source": [
    "In try block, we can write the code that may generate the error.\n",
    "In except block, we write the mechanism for handling the error."
   ]
  },
  {
   "cell_type": "code",
   "execution_count": 8,
   "id": "fbdbcc99",
   "metadata": {},
   "outputs": [
    {
     "name": "stdout",
     "output_type": "stream",
     "text": [
      "error occured: division by zero\n",
      "the finally block\n"
     ]
    }
   ],
   "source": [
    "try:\n",
    "    a=5\n",
    "    b=0\n",
    "    c=a/b\n",
    "    print(f\"the quotient is {c}\")\n",
    "except Exception as e:\n",
    "    print(\"error occured:\",e)\n",
    "finally:\n",
    "    print(\"the finally block\")\n",
    "        \n",
    "        "
   ]
  },
  {
   "cell_type": "code",
   "execution_count": null,
   "id": "bb2f842a",
   "metadata": {},
   "outputs": [],
   "source": []
  }
 ],
 "metadata": {
  "kernelspec": {
   "display_name": "Python 3 (ipykernel)",
   "language": "python",
   "name": "python3"
  },
  "language_info": {
   "codemirror_mode": {
    "name": "ipython",
    "version": 3
   },
   "file_extension": ".py",
   "mimetype": "text/x-python",
   "name": "python",
   "nbconvert_exporter": "python",
   "pygments_lexer": "ipython3",
   "version": "3.11.3"
  }
 },
 "nbformat": 4,
 "nbformat_minor": 5
}
