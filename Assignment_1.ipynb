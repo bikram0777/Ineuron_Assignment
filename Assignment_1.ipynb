{
 "cells": [
  {
   "cell_type": "raw",
   "id": "4aced698",
   "metadata": {},
   "source": [
    "1. In the below elements which of them are values or an expression? eg:- values can be integer or string and expressions will be mathematical operators.\n",
    "* \n",
    "'hello'\n",
    "-87.8\n",
    "- \n",
    "/ \n",
    "+\t\n",
    "6 \n"
   ]
  },
  {
   "cell_type": "markdown",
   "id": "1251e00a",
   "metadata": {},
   "source": [
    "ans:'hello', -87.8, 6 are the values \n",
    "    *, -, /, +, are the expressions"
   ]
  },
  {
   "cell_type": "raw",
   "id": "a6861bcd",
   "metadata": {},
   "source": [
    "2. What is the difference between string and variable?"
   ]
  },
  {
   "cell_type": "raw",
   "id": "98b859cc",
   "metadata": {},
   "source": [
    "String are itself variables and it is the collection of characters but variables are like containers that can hold values.\n",
    "the values can be of any kind like integer float characters and float. "
   ]
  },
  {
   "cell_type": "raw",
   "id": "2acad3d4",
   "metadata": {},
   "source": [
    "3. Describe three different data types.\n"
   ]
  },
  {
   "cell_type": "markdown",
   "id": "11d4dec6",
   "metadata": {},
   "source": [
    "The types of datatypes are \n",
    "1. int data types: they hold integer data( whole numbers eg. 5,505,100 etc)\n",
    "2. float data types: they hold fractional data( eg. 2.0,45.67 etc)\n",
    "3. boolean data types: they hold boolean data( eg. True,False )\n",
    "4. String data types: they are the collection of characters and enclosed by (\" \")( eg \"ram\", \"Kathmandu\",\"ineuron\" etc)"
   ]
  },
  {
   "cell_type": "raw",
   "id": "2716c5b0",
   "metadata": {},
   "source": [
    "4. What is an expression made up of? What do all expressions do?"
   ]
  },
  {
   "cell_type": "markdown",
   "id": "c26ca319",
   "metadata": {},
   "source": [
    "An expression is made up of variables, constants and operators. usually the give some values in return"
   ]
  },
  {
   "cell_type": "raw",
   "id": "bfdf2ab6",
   "metadata": {},
   "source": [
    "5. This assignment statements, like spam = 10. What is the difference between an expression and a statement?"
   ]
  },
  {
   "cell_type": "markdown",
   "id": "4a1bb03e",
   "metadata": {},
   "source": [
    "statement is used to create variables or to print some values but expression is used to calculate or to produce some result."
   ]
  },
  {
   "cell_type": "raw",
   "id": "d56d1682",
   "metadata": {},
   "source": [
    "6. After running the following code, what does the variable bacon contain?\n",
    "bacon = 22\n",
    "bacon + 1\n"
   ]
  },
  {
   "cell_type": "markdown",
   "id": "2076af59",
   "metadata": {},
   "source": [
    "After running the code the variable bacon will contain 22 because in second line bacon is not assigned a new value."
   ]
  },
  {
   "cell_type": "raw",
   "id": "8c8b5f28",
   "metadata": {},
   "source": [
    "7. What should the values of the following two terms be?\n",
    "'spam' + 'spamspam'\n",
    "'spam' * 3\n"
   ]
  },
  {
   "cell_type": "markdown",
   "id": "3c1d3594",
   "metadata": {},
   "source": [
    "the values will be 'spamspamspam'"
   ]
  },
  {
   "cell_type": "raw",
   "id": "44fbcd04",
   "metadata": {},
   "source": [
    "8. Why is eggs a valid variable name while 100 is invalid?"
   ]
  },
  {
   "cell_type": "markdown",
   "id": "46983c32",
   "metadata": {},
   "source": [
    "The rule of identifier says that variable name cannot start with number or other symbol except underscore.\n",
    "So eggs is valid variable but 100 is invalid variable name."
   ]
  },
  {
   "cell_type": "raw",
   "id": "27b491b2",
   "metadata": {},
   "source": [
    "9. What three functions can be used to get the integer, floating-point number, or string version of a value?"
   ]
  },
  {
   "cell_type": "markdown",
   "id": "7903cd0a",
   "metadata": {},
   "source": [
    "we can use the following three functions:\n",
    "    int() to get integer\n",
    "    float() to get float\n",
    "    str() to get string"
   ]
  },
  {
   "cell_type": "markdown",
   "id": "1aa1ee60",
   "metadata": {},
   "source": [
    "10. Why does this expression cause an error? How can you fix it?\n",
    "'I have eaten ' + 99 + ' burritos.'\n"
   ]
  },
  {
   "cell_type": "markdown",
   "id": "49121fff",
   "metadata": {},
   "source": [
    "because 99 is an integer and here we are using string operator(+) and it works only with string variable.\n",
    "we can fix this in following ways.\n",
    "'i have eaten'+'99'+'burritos'\n",
    "or by using f string in followinf ways."
   ]
  },
  {
   "cell_type": "code",
   "execution_count": 5,
   "id": "f8030b8f",
   "metadata": {},
   "outputs": [
    {
     "data": {
      "text/plain": [
       "'i have eaten 99 burritos'"
      ]
     },
     "execution_count": 5,
     "metadata": {},
     "output_type": "execute_result"
    }
   ],
   "source": [
    "f\"i have eaten {99} burritos\""
   ]
  },
  {
   "cell_type": "code",
   "execution_count": null,
   "id": "7b9884dd",
   "metadata": {},
   "outputs": [],
   "source": []
  }
 ],
 "metadata": {
  "kernelspec": {
   "display_name": "Python 3 (ipykernel)",
   "language": "python",
   "name": "python3"
  },
  "language_info": {
   "codemirror_mode": {
    "name": "ipython",
    "version": 3
   },
   "file_extension": ".py",
   "mimetype": "text/x-python",
   "name": "python",
   "nbconvert_exporter": "python",
   "pygments_lexer": "ipython3",
   "version": "3.11.3"
  }
 },
 "nbformat": 4,
 "nbformat_minor": 5
}
