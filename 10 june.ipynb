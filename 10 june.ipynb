{
 "cells": [
  {
   "cell_type": "code",
   "execution_count": null,
   "id": "d9cc8400",
   "metadata": {},
   "outputs": [],
   "source": [
    "1. In Python, what is the difference between a built-in function and a user-defined function? Provide an\n",
    "example of each."
   ]
  },
  {
   "cell_type": "code",
   "execution_count": null,
   "id": "084153ca",
   "metadata": {},
   "outputs": [],
   "source": [
    "Built in functions are the library functions whose name and function definition is fixed and the number and types of arguments it takes is fixed\n",
    "also the return types is fixed by the programming language.\n",
    "ed.sqrt(4)\n",
    "\n",
    "user defined functions are user created function where user defines the task and name of the function.\n",
    "Also the number of arguments and the types of arguments ae fixed by user. \n",
    "eg. def add(a,b):\n",
    "        return a+b"
   ]
  },
  {
   "cell_type": "code",
   "execution_count": null,
   "id": "bb551a7b",
   "metadata": {},
   "outputs": [],
   "source": [
    "2. How can you pass arguments to a function in Python? Explain the difference between positional\n",
    "arguments and keyword arguments."
   ]
  },
  {
   "cell_type": "code",
   "execution_count": null,
   "id": "895cad1d",
   "metadata": {},
   "outputs": [],
   "source": [
    "we can pass arguments to a function in following ways:\n",
    "Positional arguments: Positional arguments are passed to a function in the order in which they are defined. \n",
    "    When a function is called, the arguments are passed to the function parameters in order.\n",
    "Keyword arguments: Keyword arguments are passed to a function by name.\n",
    "    This means that the order in which the arguments are passed to the function does not matter, as long as the argument names match the parameter names"
   ]
  },
  {
   "cell_type": "code",
   "execution_count": 1,
   "id": "958cfb33",
   "metadata": {},
   "outputs": [
    {
     "data": {
      "text/plain": [
       "9"
      ]
     },
     "execution_count": 1,
     "metadata": {},
     "output_type": "execute_result"
    }
   ],
   "source": [
    "# eg. Positional arguments\n",
    "def add(a,b):\n",
    "    return a+b\n",
    "add(4,5)"
   ]
  },
  {
   "cell_type": "code",
   "execution_count": 2,
   "id": "8ab5f20c",
   "metadata": {},
   "outputs": [
    {
     "data": {
      "text/plain": [
       "10"
      ]
     },
     "execution_count": 2,
     "metadata": {},
     "output_type": "execute_result"
    }
   ],
   "source": [
    "# keyword arguments\n",
    "def add2(a=5,b=7):\n",
    "    return a+b\n",
    "add2(3)"
   ]
  },
  {
   "cell_type": "code",
   "execution_count": null,
   "id": "4c00a6a3",
   "metadata": {},
   "outputs": [],
   "source": [
    "3. What is the purpose of the return statement in a function? Can a function have multiple return\n",
    "statements? Explain with an example."
   ]
  },
  {
   "cell_type": "code",
   "execution_count": null,
   "id": "e7a9bbbc",
   "metadata": {},
   "outputs": [],
   "source": [
    "The purpose of the return statement is to return the value of function to the calling function.\n",
    "no, a function has only one return statement but it can return multiple values.\n"
   ]
  },
  {
   "cell_type": "code",
   "execution_count": 3,
   "id": "e98f79db",
   "metadata": {},
   "outputs": [],
   "source": [
    "# eg \n",
    "def calculate(a,b):\n",
    "    s=a+b\n",
    "    d=a-b\n",
    "    p=a*b\n",
    "    return s,d,p"
   ]
  },
  {
   "cell_type": "code",
   "execution_count": 4,
   "id": "23d1c19a",
   "metadata": {},
   "outputs": [
    {
     "data": {
      "text/plain": [
       "(12, -2, 35)"
      ]
     },
     "execution_count": 4,
     "metadata": {},
     "output_type": "execute_result"
    }
   ],
   "source": [
    "calculate(5,7)"
   ]
  },
  {
   "cell_type": "code",
   "execution_count": null,
   "id": "68a54ca0",
   "metadata": {},
   "outputs": [],
   "source": [
    "4. What are lambda functions in Python? How are they different from regular functions? Provide an\n",
    "example where a lambda function can be useful."
   ]
  },
  {
   "cell_type": "code",
   "execution_count": null,
   "id": "4709f2ab",
   "metadata": {},
   "outputs": [],
   "source": [
    "\n",
    "Lambda functions in Python are anonymous functions. This means that they do not have a name and are defined inline.\n",
    "Lambda functions are typically used for short, one-off tasks."
   ]
  },
  {
   "cell_type": "code",
   "execution_count": 5,
   "id": "d0a62161",
   "metadata": {},
   "outputs": [],
   "source": [
    "# eg\n",
    "lambda_function = lambda x: x * 2"
   ]
  },
  {
   "cell_type": "code",
   "execution_count": 6,
   "id": "2d81c5e0",
   "metadata": {},
   "outputs": [
    {
     "data": {
      "text/plain": [
       "20"
      ]
     },
     "execution_count": 6,
     "metadata": {},
     "output_type": "execute_result"
    }
   ],
   "source": [
    "lambda_function(10)"
   ]
  },
  {
   "cell_type": "code",
   "execution_count": null,
   "id": "767d6fd6",
   "metadata": {},
   "outputs": [],
   "source": [
    "5. How does the concept of \"scope\" apply to functions in Python? Explain the difference between local\n",
    "scope and global scope."
   ]
  },
  {
   "cell_type": "code",
   "execution_count": null,
   "id": "db00eb61",
   "metadata": {},
   "outputs": [],
   "source": [
    "\n",
    "Scope in Python refers to the visibility of a variable within a program.\n",
    "A variable can be defined in a local scope or a global scope.\n",
    "\n",
    "Local scope is the scope of a variable that is defined within a function.\n",
    "A variable defined in a local scope can only be accessed within the function in which it is defined.\n",
    "\n",
    "Global scope is the scope of a variable that is defined outside of all functions. \n",
    "A variable defined in a global scope can be accessed from anywhere in the program."
   ]
  },
  {
   "cell_type": "code",
   "execution_count": null,
   "id": "1d0c6b79",
   "metadata": {},
   "outputs": [],
   "source": [
    "6. How can you use the \"return\" statement in a Python function to return multiple values?"
   ]
  },
  {
   "cell_type": "code",
   "execution_count": null,
   "id": "5b34cc5d",
   "metadata": {},
   "outputs": [],
   "source": [
    "we can use in following ways:\n",
    "    "
   ]
  },
  {
   "cell_type": "code",
   "execution_count": 7,
   "id": "a158ed02",
   "metadata": {},
   "outputs": [],
   "source": [
    "def calculate(a,b):\n",
    "    try:\n",
    "        s=a+b\n",
    "        d=a-b\n",
    "        p=a*b\n",
    "        q=a/b\n",
    "        return s,d,p,q\n",
    "    except Exception as e:\n",
    "        print(e)"
   ]
  },
  {
   "cell_type": "code",
   "execution_count": 9,
   "id": "643c7bb9",
   "metadata": {},
   "outputs": [
    {
     "data": {
      "text/plain": [
       "(12, -2, 35, 0.7142857142857143)"
      ]
     },
     "execution_count": 9,
     "metadata": {},
     "output_type": "execute_result"
    }
   ],
   "source": [
    "calculate(5,7)"
   ]
  },
  {
   "cell_type": "code",
   "execution_count": null,
   "id": "61c9999f",
   "metadata": {},
   "outputs": [],
   "source": [
    "7. What is the difference between the \"pass by value\" and \"pass by reference\" concepts when it\n",
    "comes to function arguments in Python?"
   ]
  },
  {
   "cell_type": "code",
   "execution_count": null,
   "id": "636c5b08",
   "metadata": {},
   "outputs": [],
   "source": [
    "\n",
    "The difference between pass by value and pass by reference is the way in which function arguments are handled.\n",
    "\n",
    "Pass by value means that a copy of the argument is passed to the function.\n",
    "This means that any changes made to the argument inside the function do not affect the original argument outside of the function.\n",
    "\n",
    "Pass by reference means that a reference to the argument is passed to the function.\n",
    "This means that any changes made to the argument inside the function also affect the original argument outside of the function."
   ]
  },
  {
   "cell_type": "code",
   "execution_count": null,
   "id": "92ca4bef",
   "metadata": {},
   "outputs": [],
   "source": [
    "\n",
    "8. Create a function that can intake integer or decimal value and do following operations:\n",
    "a. Logarithmic function (log x)\n",
    "b. Exponential function (exp(x))\n",
    "c. Power function with base 2 (2\n",
    "x\n",
    ")\n",
    "d. Square root"
   ]
  },
  {
   "cell_type": "code",
   "execution_count": 11,
   "id": "db4e6586",
   "metadata": {},
   "outputs": [],
   "source": [
    "import math"
   ]
  },
  {
   "cell_type": "code",
   "execution_count": 17,
   "id": "485360ca",
   "metadata": {},
   "outputs": [],
   "source": [
    "def calc(x,str):\n",
    "    if str=='log':\n",
    "        return math.log(x)\n",
    "    elif str=='exp':\n",
    "        return math.exp(x)\n",
    "    elif str=='pow':\n",
    "        return math.pow(x,2)\n",
    "    elif str=='sqr':\n",
    "        return math.sqrt(x)\n",
    "        \n",
    "        "
   ]
  },
  {
   "cell_type": "code",
   "execution_count": 19,
   "id": "81043e89",
   "metadata": {},
   "outputs": [
    {
     "data": {
      "text/plain": [
       "2.995732273553991"
      ]
     },
     "execution_count": 19,
     "metadata": {},
     "output_type": "execute_result"
    }
   ],
   "source": [
    "calc(20,'log')"
   ]
  },
  {
   "cell_type": "code",
   "execution_count": null,
   "id": "df418ef0",
   "metadata": {},
   "outputs": [],
   "source": [
    "9. Create a function that takes a full name as an argument and returns first name and last name."
   ]
  },
  {
   "cell_type": "code",
   "execution_count": 25,
   "id": "b0a1a5a3",
   "metadata": {},
   "outputs": [],
   "source": [
    "def read_name(str):\n",
    "    return str.split(\" \")[0],str.split(\" \")[1]"
   ]
  },
  {
   "cell_type": "code",
   "execution_count": 26,
   "id": "90f489b0",
   "metadata": {},
   "outputs": [],
   "source": [
    "first_name,last_name=read_name(\"Bikram Shah\")"
   ]
  },
  {
   "cell_type": "code",
   "execution_count": 33,
   "id": "b217fb6e",
   "metadata": {},
   "outputs": [
    {
     "name": "stdout",
     "output_type": "stream",
     "text": [
      "first name \"Bikram\" last name \"Shah\"\n"
     ]
    }
   ],
   "source": [
    "print(f\"first name \\\"{first_name}\\\" last name \\\"{last_name}\\\"\")"
   ]
  },
  {
   "cell_type": "code",
   "execution_count": null,
   "id": "79fca1d6",
   "metadata": {},
   "outputs": [],
   "source": []
  }
 ],
 "metadata": {
  "kernelspec": {
   "display_name": "Python 3 (ipykernel)",
   "language": "python",
   "name": "python3"
  },
  "language_info": {
   "codemirror_mode": {
    "name": "ipython",
    "version": 3
   },
   "file_extension": ".py",
   "mimetype": "text/x-python",
   "name": "python",
   "nbconvert_exporter": "python",
   "pygments_lexer": "ipython3",
   "version": "3.11.3"
  }
 },
 "nbformat": 4,
 "nbformat_minor": 5
}
