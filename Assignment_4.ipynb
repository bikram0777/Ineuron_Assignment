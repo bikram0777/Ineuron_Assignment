{
 "cells": [
  {
   "cell_type": "code",
   "execution_count": null,
   "id": "155dd2c4",
   "metadata": {},
   "outputs": [],
   "source": [
    "\n",
    "\n",
    "\n",
    "\n",
    "\n",
    "\n",
    "\n",
    "\n",
    "\n",
    "\n",
    "\n",
    "\n",
    "\n",
    "\n",
    "\n",
    "\n",
    "\n",
    "\n"
   ]
  },
  {
   "cell_type": "markdown",
   "id": "686df7e8",
   "metadata": {},
   "source": [
    "1. What exactly is []?"
   ]
  },
  {
   "cell_type": "raw",
   "id": "5cd43c7d",
   "metadata": {},
   "source": [
    "it is index bracket used to create a list.\n",
    "eg. a=[4,5,6]"
   ]
  },
  {
   "cell_type": "markdown",
   "id": "eb38b10d",
   "metadata": {},
   "source": [
    "2. In a list of values stored in a variable called spam, how would you assign the value 'hello' as the third value? (Assume [2, 4, 6, 8, 10] are in spam.)"
   ]
  },
  {
   "cell_type": "raw",
   "id": "9d991133",
   "metadata": {},
   "source": [
    "it can be done in the following ways.\n",
    "spam[2]=\"hello\"\n",
    "or\n",
    "spam=[2,4,6,8,10]\n",
    "spam.insert(2,'hello')"
   ]
  },
  {
   "cell_type": "markdown",
   "id": "d483556a",
   "metadata": {},
   "source": [
    "# Let's pretend the spam includes the list ['a', 'b', 'c', 'd'] for the next three queries."
   ]
  },
  {
   "cell_type": "markdown",
   "id": "ae40db14",
   "metadata": {},
   "source": [
    "3. What is the value of spam[int(int('3' * 2) / 11)]?"
   ]
  },
  {
   "cell_type": "raw",
   "id": "0c64482b",
   "metadata": {},
   "source": [
    "since the expression returns the value 3. so the output is 'd'"
   ]
  },
  {
   "cell_type": "markdown",
   "id": "cec20071",
   "metadata": {},
   "source": [
    "4. What is the value of spam[-1]?"
   ]
  },
  {
   "cell_type": "code",
   "execution_count": null,
   "id": "13688388",
   "metadata": {},
   "outputs": [],
   "source": [
    "since -1 indicates the last value,so the out put is 'd'"
   ]
  },
  {
   "cell_type": "markdown",
   "id": "7dcfef86",
   "metadata": {},
   "source": [
    "5. What is the value of spam[:2]?"
   ]
  },
  {
   "cell_type": "raw",
   "id": "cc019574",
   "metadata": {},
   "source": [
    ":2 represents from zeroth index to (2-1)th index. so output is ['a','b']"
   ]
  },
  {
   "cell_type": "markdown",
   "id": "7a8f4721",
   "metadata": {},
   "source": [
    "# Let's pretend bacon has the list [3.14, 'cat,' 11, 'cat,' True] for the next three questions."
   ]
  },
  {
   "cell_type": "markdown",
   "id": "4262219d",
   "metadata": {},
   "source": [
    "6. What is the value of bacon.index('cat')?"
   ]
  },
  {
   "cell_type": "raw",
   "id": "855e7f29",
   "metadata": {},
   "source": [
    "it returns the first index of cat. so the output is 1."
   ]
  },
  {
   "cell_type": "markdown",
   "id": "e592637a",
   "metadata": {},
   "source": [
    "7. How does bacon.append(99) change the look of the list value in bacon?"
   ]
  },
  {
   "cell_type": "raw",
   "id": "3d83bafa",
   "metadata": {},
   "source": [
    "it will append 99 at the last of the list. so the length of the list will be 6."
   ]
  },
  {
   "cell_type": "markdown",
   "id": "543bc046",
   "metadata": {},
   "source": [
    "8. How does bacon.remove('cat') change the look of the list in bacon?"
   ]
  },
  {
   "cell_type": "raw",
   "id": "57d6dbc1",
   "metadata": {},
   "source": [
    "it will remove the first 'cat' from the list."
   ]
  },
  {
   "cell_type": "markdown",
   "id": "0fcf762b",
   "metadata": {},
   "source": [
    "9. What are the list concatenation and list replication operators?"
   ]
  },
  {
   "cell_type": "code",
   "execution_count": null,
   "id": "31207f32",
   "metadata": {},
   "outputs": [],
   "source": [
    "the list concatenation operator is '+' operator.\n",
    "eg."
   ]
  },
  {
   "cell_type": "code",
   "execution_count": 17,
   "id": "3f6a0936",
   "metadata": {},
   "outputs": [],
   "source": [
    "a=[1,2,3]\n",
    "b=[4,5,6]\n",
    "c=a+b"
   ]
  },
  {
   "cell_type": "code",
   "execution_count": 18,
   "id": "f5c63a9b",
   "metadata": {},
   "outputs": [
    {
     "data": {
      "text/plain": [
       "[1, 2, 3, 4, 5, 6]"
      ]
     },
     "execution_count": 18,
     "metadata": {},
     "output_type": "execute_result"
    }
   ],
   "source": [
    "c"
   ]
  },
  {
   "cell_type": "raw",
   "id": "ccacda7c",
   "metadata": {},
   "source": [
    "the list replication operator is'*'' operator.\n"
   ]
  },
  {
   "cell_type": "code",
   "execution_count": 21,
   "id": "12fc1647",
   "metadata": {},
   "outputs": [],
   "source": [
    "d=a*4"
   ]
  },
  {
   "cell_type": "code",
   "execution_count": 23,
   "id": "43898539",
   "metadata": {},
   "outputs": [
    {
     "data": {
      "text/plain": [
       "[1, 2, 3, 1, 2, 3, 1, 2, 3, 1, 2, 3]"
      ]
     },
     "execution_count": 23,
     "metadata": {},
     "output_type": "execute_result"
    }
   ],
   "source": [
    "d"
   ]
  },
  {
   "cell_type": "code",
   "execution_count": null,
   "id": "e7fb3711",
   "metadata": {},
   "outputs": [],
   "source": [
    "10. What is difference between the list methods append() and insert()?"
   ]
  },
  {
   "cell_type": "raw",
   "id": "50b787e3",
   "metadata": {},
   "source": [
    "the main difference is append method adds an element at the last of the list but insert method inserts element at the specified index position."
   ]
  },
  {
   "cell_type": "markdown",
   "id": "e9ff0d67",
   "metadata": {},
   "source": [
    "11. What are the two methods for removing items from a list?"
   ]
  },
  {
   "cell_type": "code",
   "execution_count": null,
   "id": "23b2d3bb",
   "metadata": {},
   "outputs": [],
   "source": [
    "remove() and pop() are used to remove items from the list.\n",
    "eg. \n",
    "bacon.remove('cat') : it removes cat from the list\n",
    "bacon.pop() : it removes last element from the list."
   ]
  },
  {
   "cell_type": "markdown",
   "id": "a4aa6dd3",
   "metadata": {},
   "source": [
    "12. Describe how list values and string values are identical."
   ]
  },
  {
   "cell_type": "raw",
   "id": "0248fea2",
   "metadata": {},
   "source": [
    "because they both are the collection of elements. the elements of list and string can be accessed via index operation."
   ]
  },
  {
   "cell_type": "markdown",
   "id": "eaf9edb9",
   "metadata": {},
   "source": [
    "13. What's the difference between tuples and lists?"
   ]
  },
  {
   "cell_type": "raw",
   "id": "426728ab",
   "metadata": {},
   "source": [
    "list and tuples both are data structures use din python.\n",
    "But they differ in following ways.\n",
    "List:\n",
    "    list are collection of elements.\n",
    "    they are mutable. that means a list can be changed in run time also.\n",
    "    due to this they are slower as compared to tuples.\n",
    "    they use index bracket.\n",
    "    eg.\n",
    "    my_list=[1,2,3,4]\n",
    "Tuples:\n",
    "    tuples are also collection of elements.\n",
    "    they are immutable that means once a tuple is created we can not change the elements of tuple.\n",
    "    they are faster as compared to list.\n",
    "    they use parenthesis\n",
    "    eg. mu_tuple=(1,2,3,4)"
   ]
  },
  {
   "cell_type": "raw",
   "id": "213f7e14",
   "metadata": {},
   "source": [
    "14. How do you type a tuple value that only contains the integer 42?"
   ]
  },
  {
   "cell_type": "code",
   "execution_count": 1,
   "id": "45c3d14e",
   "metadata": {},
   "outputs": [],
   "source": [
    "from typing import Tuple\n",
    "\n",
    "my_tuple: Tuple[int] = (42,)\n"
   ]
  },
  {
   "cell_type": "code",
   "execution_count": 2,
   "id": "27dccf6b",
   "metadata": {},
   "outputs": [
    {
     "data": {
      "text/plain": [
       "(42,)"
      ]
     },
     "execution_count": 2,
     "metadata": {},
     "output_type": "execute_result"
    }
   ],
   "source": [
    "my_tuple"
   ]
  },
  {
   "cell_type": "markdown",
   "id": "77198dc0",
   "metadata": {},
   "source": [
    "15. How do you get a list value's tuple form? How do you get a tuple value's list form?"
   ]
  },
  {
   "cell_type": "raw",
   "id": "fa8d77db",
   "metadata": {},
   "source": [
    "we can do by using the constructors.\n",
    "to get list values tuple form:\n",
    "    my_list=[1,2,3]\n",
    "    my_tuple=tuple(my_list)\n",
    "to get tuple values in list form,we can use list constructor.\n",
    "    my_tup=(1,2,3)\n",
    "    my_ls=list(my_tup)"
   ]
  },
  {
   "cell_type": "markdown",
   "id": "4035ad49",
   "metadata": {},
   "source": [
    "16. Variables that \"contain\" list values are not necessarily lists themselves. Instead, what do they contain?"
   ]
  },
  {
   "cell_type": "raw",
   "id": "f4b24614",
   "metadata": {},
   "source": [
    "variables that contain list values are not necessarily lists themselves. Instead they contain the pointers or references to the memory location where the list is stored. they contain the address of the first element of the list.\n"
   ]
  },
  {
   "cell_type": "markdown",
   "id": "e5d4e508",
   "metadata": {},
   "source": [
    "17. How do you distinguish between copy.copy() and copy.deepcopy()?"
   ]
  },
  {
   "cell_type": "code",
   "execution_count": null,
   "id": "0382cfc3",
   "metadata": {},
   "outputs": [],
   "source": []
  },
  {
   "cell_type": "code",
   "execution_count": null,
   "id": "889e6b27",
   "metadata": {},
   "outputs": [],
   "source": []
  },
  {
   "cell_type": "code",
   "execution_count": null,
   "id": "1fb3c9ab",
   "metadata": {},
   "outputs": [],
   "source": []
  },
  {
   "cell_type": "code",
   "execution_count": null,
   "id": "e68bc12c",
   "metadata": {},
   "outputs": [],
   "source": []
  },
  {
   "cell_type": "code",
   "execution_count": null,
   "id": "50bf04b6",
   "metadata": {},
   "outputs": [],
   "source": []
  },
  {
   "cell_type": "code",
   "execution_count": 13,
   "id": "a1f25cd3",
   "metadata": {},
   "outputs": [],
   "source": [
    "bacon=[3.14,'cat',11,'cat',True]"
   ]
  },
  {
   "cell_type": "code",
   "execution_count": 14,
   "id": "9a132107",
   "metadata": {},
   "outputs": [
    {
     "data": {
      "text/plain": [
       "1"
      ]
     },
     "execution_count": 14,
     "metadata": {},
     "output_type": "execute_result"
    }
   ],
   "source": [
    "bacon.index('cat')"
   ]
  },
  {
   "cell_type": "code",
   "execution_count": 12,
   "id": "d6664ede",
   "metadata": {},
   "outputs": [
    {
     "data": {
      "text/plain": [
       "['a', 'b']"
      ]
     },
     "execution_count": 12,
     "metadata": {},
     "output_type": "execute_result"
    }
   ],
   "source": [
    "spam[:2]"
   ]
  },
  {
   "cell_type": "code",
   "execution_count": 15,
   "id": "a340a8f4",
   "metadata": {},
   "outputs": [],
   "source": [
    "bacon.remove('cat')"
   ]
  },
  {
   "cell_type": "code",
   "execution_count": 16,
   "id": "5fc17c53",
   "metadata": {},
   "outputs": [
    {
     "data": {
      "text/plain": [
       "[3.14, 11, 'cat', True]"
      ]
     },
     "execution_count": 16,
     "metadata": {},
     "output_type": "execute_result"
    }
   ],
   "source": [
    "bacon"
   ]
  },
  {
   "cell_type": "code",
   "execution_count": null,
   "id": "8e222342",
   "metadata": {},
   "outputs": [],
   "source": []
  },
  {
   "cell_type": "code",
   "execution_count": null,
   "id": "a602d094",
   "metadata": {},
   "outputs": [],
   "source": []
  },
  {
   "cell_type": "code",
   "execution_count": null,
   "id": "f0fe2bdc",
   "metadata": {},
   "outputs": [],
   "source": []
  },
  {
   "cell_type": "code",
   "execution_count": null,
   "id": "44a67dea",
   "metadata": {},
   "outputs": [],
   "source": []
  },
  {
   "cell_type": "code",
   "execution_count": null,
   "id": "77f0ab27",
   "metadata": {},
   "outputs": [],
   "source": []
  },
  {
   "cell_type": "code",
   "execution_count": null,
   "id": "80e7d2ba",
   "metadata": {},
   "outputs": [],
   "source": []
  },
  {
   "cell_type": "code",
   "execution_count": null,
   "id": "18aad042",
   "metadata": {},
   "outputs": [],
   "source": []
  },
  {
   "cell_type": "code",
   "execution_count": null,
   "id": "a3bc2b84",
   "metadata": {},
   "outputs": [],
   "source": []
  },
  {
   "cell_type": "code",
   "execution_count": null,
   "id": "e6252554",
   "metadata": {},
   "outputs": [],
   "source": []
  },
  {
   "cell_type": "code",
   "execution_count": null,
   "id": "f7f34c3c",
   "metadata": {},
   "outputs": [],
   "source": []
  },
  {
   "cell_type": "code",
   "execution_count": null,
   "id": "a64683e2",
   "metadata": {},
   "outputs": [],
   "source": []
  },
  {
   "cell_type": "code",
   "execution_count": null,
   "id": "5cef07cf",
   "metadata": {},
   "outputs": [],
   "source": []
  }
 ],
 "metadata": {
  "kernelspec": {
   "display_name": "Python 3 (ipykernel)",
   "language": "python",
   "name": "python3"
  },
  "language_info": {
   "codemirror_mode": {
    "name": "ipython",
    "version": 3
   },
   "file_extension": ".py",
   "mimetype": "text/x-python",
   "name": "python",
   "nbconvert_exporter": "python",
   "pygments_lexer": "ipython3",
   "version": "3.11.3"
  }
 },
 "nbformat": 4,
 "nbformat_minor": 5
}
