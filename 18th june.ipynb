{
 "cells": [
  {
   "cell_type": "code",
   "execution_count": null,
   "id": "8a9569eb",
   "metadata": {},
   "outputs": [],
   "source": [
    "1. What is the role of the 'else' block in a try-except statement? Provide an example\n",
    "scenario where it would be useful."
   ]
  },
  {
   "cell_type": "code",
   "execution_count": null,
   "id": "f4e85c67",
   "metadata": {},
   "outputs": [],
   "source": [
    "The else block in a try-except statement is executed if no exception is raised in the try block.\n",
    "It can be used to perform additional tasks after the code in the try block has been executed successfully"
   ]
  },
  {
   "cell_type": "code",
   "execution_count": 2,
   "id": "0a1bf261",
   "metadata": {},
   "outputs": [
    {
     "name": "stdout",
     "output_type": "stream",
     "text": [
      "the result is  0.7142857142857143\n"
     ]
    }
   ],
   "source": [
    "#example\n",
    "\n",
    "a=5\n",
    "b=7\n",
    "try:\n",
    "    result = a / b\n",
    "except ZeroDivisionError:\n",
    "    print(\"Cannot divide by zero.\")\n",
    "    \n",
    "else:\n",
    "    print(\"the result is \",result)"
   ]
  },
  {
   "cell_type": "code",
   "execution_count": null,
   "id": "75b09c72",
   "metadata": {},
   "outputs": [],
   "source": [
    "2. Can a try-except block be nested inside another try-except block? Explain with an\n",
    "example."
   ]
  },
  {
   "cell_type": "code",
   "execution_count": null,
   "id": "80d675f9",
   "metadata": {},
   "outputs": [],
   "source": [
    "Yes, a try except block can be nested another try except block."
   ]
  },
  {
   "cell_type": "code",
   "execution_count": 1,
   "id": "a21a909e",
   "metadata": {},
   "outputs": [
    {
     "name": "stdout",
     "output_type": "stream",
     "text": [
      "Cannot divide by zero.\n"
     ]
    }
   ],
   "source": [
    "try:\n",
    "  # this is the Outer try block.\n",
    "  try:\n",
    "    # this is the  Inner try block.\n",
    "    a=1 / 0\n",
    "  except ZeroDivisionError:\n",
    "    # this is the Inner except block.\n",
    "    print(\"Cannot divide by zero.\")\n",
    "except:\n",
    "  # this is the Outer except block.\n",
    "  print(\"An error occurred.\")"
   ]
  },
  {
   "cell_type": "code",
   "execution_count": null,
   "id": "d766f28a",
   "metadata": {},
   "outputs": [],
   "source": [
    "3. How can you create a custom exception class in Python? Provide an example that\n",
    "demonstrates its usage."
   ]
  },
  {
   "cell_type": "code",
   "execution_count": 5,
   "id": "2ed02137",
   "metadata": {},
   "outputs": [
    {
     "ename": "CustomException",
     "evalue": "Error occured in the script [C:\\Users\\Admin\\AppData\\Local\\Temp\\ipykernel_26372\\2469485987.py] in line no [17] error message [division by zero]",
     "output_type": "error",
     "traceback": [
      "\u001b[1;31m---------------------------------------------------------------------------\u001b[0m",
      "\u001b[1;31mZeroDivisionError\u001b[0m                         Traceback (most recent call last)",
      "Cell \u001b[1;32mIn[5], line 17\u001b[0m\n\u001b[0;32m     16\u001b[0m \u001b[38;5;28;01mtry\u001b[39;00m:\n\u001b[1;32m---> 17\u001b[0m     a\u001b[38;5;241m=\u001b[39m\u001b[38;5;241m1\u001b[39m\u001b[38;5;241m/\u001b[39m\u001b[38;5;241m0\u001b[39m\n\u001b[0;32m     18\u001b[0m \u001b[38;5;28;01mexcept\u001b[39;00m \u001b[38;5;167;01mException\u001b[39;00m \u001b[38;5;28;01mas\u001b[39;00m e:\n",
      "\u001b[1;31mZeroDivisionError\u001b[0m: division by zero",
      "\nDuring handling of the above exception, another exception occurred:\n",
      "\u001b[1;31mCustomException\u001b[0m                           Traceback (most recent call last)",
      "Cell \u001b[1;32mIn[5], line 19\u001b[0m\n\u001b[0;32m     17\u001b[0m     a\u001b[38;5;241m=\u001b[39m\u001b[38;5;241m1\u001b[39m\u001b[38;5;241m/\u001b[39m\u001b[38;5;241m0\u001b[39m\n\u001b[0;32m     18\u001b[0m \u001b[38;5;28;01mexcept\u001b[39;00m \u001b[38;5;167;01mException\u001b[39;00m \u001b[38;5;28;01mas\u001b[39;00m e:\n\u001b[1;32m---> 19\u001b[0m     \u001b[38;5;28;01mraise\u001b[39;00m CustomException(e,sys)\n",
      "\u001b[1;31mCustomException\u001b[0m: Error occured in the script [C:\\Users\\Admin\\AppData\\Local\\Temp\\ipykernel_26372\\2469485987.py] in line no [17] error message [division by zero]"
     ]
    }
   ],
   "source": [
    "# we create custom exception by inheriting the Exception class in following ways.\n",
    "import sys\n",
    "\n",
    "class CustomException(Exception):\n",
    "    def __init__(self,error_message,error_details:sys):\n",
    "        self.error_message=error_message\n",
    "        _,_,exc_tb=error_details.exc_info()\n",
    "        self.line_no=exc_tb.tb_lineno\n",
    "        self.file_name=exc_tb.tb_frame.f_code.co_filename\n",
    "\n",
    "\n",
    "    def __str__(self):\n",
    "        return \"Error occured in the script [{0}] in line no [{1}] error message [{2}]\".format(self.file_name,self.line_no,self.error_message  )\n",
    "        \n",
    "\n",
    "if __name__=='__main__':\n",
    "    try:\n",
    "        a=1/0\n",
    "    except Exception as e:\n",
    "        raise CustomException(e,sys)"
   ]
  },
  {
   "cell_type": "code",
   "execution_count": null,
   "id": "a2aab80f",
   "metadata": {},
   "outputs": [],
   "source": [
    "4. What are some common exceptions that are built-in to Python?"
   ]
  },
  {
   "cell_type": "code",
   "execution_count": null,
   "id": "a1620b99",
   "metadata": {},
   "outputs": [],
   "source": [
    "some common exceptions are:\n",
    "a. EOFError\n",
    "b. FloatingPointError\n",
    "c. IndexError\n",
    "d. MemoryError\n",
    "e. OverflowError\n",
    "f. TabError\n",
    "g. ValueError"
   ]
  },
  {
   "cell_type": "code",
   "execution_count": null,
   "id": "f952f13a",
   "metadata": {},
   "outputs": [],
   "source": [
    "5. What is logging in Python, and why is it important in software development?"
   ]
  },
  {
   "cell_type": "code",
   "execution_count": null,
   "id": "0f34e3eb",
   "metadata": {},
   "outputs": [],
   "source": [
    "logging is a type of documentation tool where we can keep the log of activities.\n",
    "it is important while debugging"
   ]
  },
  {
   "cell_type": "code",
   "execution_count": null,
   "id": "a03ec776",
   "metadata": {},
   "outputs": [],
   "source": [
    "6. Explain the purpose of log levels in Python logging and provide examples of when\n",
    "each log level would be appropriate."
   ]
  },
  {
   "cell_type": "code",
   "execution_count": null,
   "id": "f2824fb2",
   "metadata": {},
   "outputs": [],
   "source": [
    "Log levels in Python logging are used to indicate the severity of a log message.\n",
    "There are six standard log levels in Python logging:\n",
    "\n",
    "NOTSET: This is the default log level and it indicates that \n",
    "the log message is not associated with any specific severity level.\n",
    "\n",
    "DEBUG: This log level indicates that the log message contains debugging information.\n",
    "    \n",
    "INFO: This log level indicates that the log message contains informational messages,\n",
    "such as the start and end of tasks.\n",
    "\n",
    "WARNING: This log level indicates that the log message contains warning messages,\n",
    "such as potential problems or errors.\n",
    "\n",
    "ERROR: This log level indicates that the log message contains error messages.\n",
    "    \n",
    "CRITICAL: This log level indicates that the log message contains critical error messages,\n",
    "such as system failures.\n",
    "\n",
    "The purpose of log levels is to allow developers to filter log messages based on their severity.\n",
    "This can be useful for troubleshooting problems and for monitoring the performance of applications."
   ]
  },
  {
   "cell_type": "code",
   "execution_count": null,
   "id": "26997268",
   "metadata": {},
   "outputs": [],
   "source": [
    "7. What are log formatters in Python logging, and how can you customise the log\n",
    "message format using formatters?"
   ]
  },
  {
   "cell_type": "code",
   "execution_count": null,
   "id": "65617971",
   "metadata": {},
   "outputs": [],
   "source": [
    "In Pythons logging system, log formatters are used to specify the format of log messages written to log handlers,\n",
    "such as a file or console.\n",
    "Formatters allow us to customize the way log records are presented in the log output. \n",
    "we can control the content, structure, and appearance of log messages, including adding information like timestamps,\n",
    "log levels, the loggers name, and the actual log message.\n",
    "\n",
    "we format log message in following ways:\n",
    "format='[%(asctime)s] %(lineno)s %(levelname)s %(name)s %(message)s'\n",
    "%(asctime)s: The timestamp when the log record was created.\n",
    "%(name)s: The name of the logger that emitted the log record.\n",
    "%(levelname)s: The log level (e.g., INFO, WARNING, ERROR).\n",
    "%(message)s: The actual log message."
   ]
  },
  {
   "cell_type": "code",
   "execution_count": null,
   "id": "950122fb",
   "metadata": {},
   "outputs": [],
   "source": [
    "8. How can you set up logging to capture log messages from multiple modules or\n",
    "classes in a Python application?"
   ]
  },
  {
   "cell_type": "code",
   "execution_count": null,
   "id": "07eb5dd0",
   "metadata": {},
   "outputs": [],
   "source": [
    "we can create a seperate logger.py file to configure the basic of logging.\n",
    "Then this logger file can be used by importing as module.\n",
    "eg.\n",
    "import logging\n",
    "import os\n",
    "from datetime import datetime\n",
    "\n",
    "\n",
    "LOG_FILE=f\"{datetime.now().strftime('%d_%m_%Y_%H_%M_%S')}.log\"\n",
    "\n",
    "os.makedirs(os.path.join(os.getcwd(),'logs'),exist_ok=True)\n",
    "\n",
    "log_file_path=os.path.join('logs',LOG_FILE)\n",
    "\n",
    "logging.basicConfig(\n",
    "    filename=log_file_path,\n",
    "    level=logging.INFO,\n",
    "    format='[%(asctime)s] %(lineno)s %(levelname)s %(name)s %(message)s'\n",
    ")\n",
    "\n",
    "\n"
   ]
  },
  {
   "cell_type": "code",
   "execution_count": null,
   "id": "35b9f6f2",
   "metadata": {},
   "outputs": [],
   "source": [
    "9. What is the difference between the logging and print statements in Python? When\n",
    "should you use logging over print statements in a real-world application?"
   ]
  },
  {
   "cell_type": "code",
   "execution_count": null,
   "id": "993804f2",
   "metadata": {},
   "outputs": [],
   "source": [
    "logging can be saved in a logfile but print statements prints immediate output in colsole.\n",
    "there are severity levels like INFO,DEBUG in logging but there is no such severity in print statement by default.\n",
    "Logging can be customised but print can be customised in limited ways.\n",
    "\n",
    "To log the Errors  during program execution or for also documentation purpose we can prefer logging over print statements."
   ]
  },
  {
   "cell_type": "code",
   "execution_count": null,
   "id": "6b3c09c9",
   "metadata": {},
   "outputs": [],
   "source": [
    "\n",
    "10. Write a Python program that logs a message to a file named \"app.log\" with the\n",
    "following requirements:\n",
    "● The log message should be \"Hello, World!\"\n",
    "● The log level should be set to \"INFO.\"\n",
    "● The log file should append new log entries without overwriting previous ones."
   ]
  },
  {
   "cell_type": "code",
   "execution_count": 25,
   "id": "6fd732dd",
   "metadata": {},
   "outputs": [],
   "source": [
    "import logging"
   ]
  },
  {
   "cell_type": "code",
   "execution_count": 37,
   "id": "2a3aaf10",
   "metadata": {},
   "outputs": [],
   "source": [
    "logging.basicConfig(\n",
    "    filename='app.log',\n",
    "    level=logging.INFO,\n",
    "    format='[%(asctime)s] %(lineno)s %(levelname)s %(name)s %(message)s'\n",
    ")"
   ]
  },
  {
   "cell_type": "code",
   "execution_count": null,
   "id": "e2148fec",
   "metadata": {},
   "outputs": [],
   "source": [
    "try:\n",
    "    logging.info(\"HEllo, World!\")\n",
    "except Exception as e:\n",
    "    print(e)\n",
    "    \n"
   ]
  },
  {
   "cell_type": "code",
   "execution_count": null,
   "id": "06aef35f",
   "metadata": {},
   "outputs": [],
   "source": []
  },
  {
   "cell_type": "code",
   "execution_count": null,
   "id": "1ea90f8d",
   "metadata": {},
   "outputs": [],
   "source": [
    "\n",
    "11. Create a Python program that logs an error message to the console and a file named\n",
    "\"errors.log\" if an exception occurs during the program's execution. The error\n",
    "message should include the exception type and a timestamp."
   ]
  },
  {
   "cell_type": "code",
   "execution_count": null,
   "id": "3c083443",
   "metadata": {},
   "outputs": [],
   "source": []
  },
  {
   "cell_type": "code",
   "execution_count": null,
   "id": "b2b07bf3",
   "metadata": {},
   "outputs": [],
   "source": [
    "import logging"
   ]
  },
  {
   "cell_type": "code",
   "execution_count": 30,
   "id": "5e788e40",
   "metadata": {},
   "outputs": [],
   "source": [
    "logging.basicConfig(\n",
    "    filename=\"errors.log\",\n",
    "    levelname=logging.INFO,\n",
    "    format='[%(asctime)s] %(lineno)s %(levelname)s %(name)s %(message)s'\n",
    ")"
   ]
  },
  {
   "cell_type": "code",
   "execution_count": null,
   "id": "978e4a59",
   "metadata": {},
   "outputs": [],
   "source": [
    "a=5\n",
    "b=0\n",
    "try:\n",
    "    q=a/b\n",
    "    print(\"Q=\",q)\n",
    "except Exception as e:\n",
    "    print(\"error occured\")\n",
    "    logging.info(e)"
   ]
  },
  {
   "cell_type": "code",
   "execution_count": null,
   "id": "7fe647a0",
   "metadata": {},
   "outputs": [],
   "source": [
    "\n"
   ]
  },
  {
   "cell_type": "code",
   "execution_count": null,
   "id": "b1bdb580",
   "metadata": {},
   "outputs": [],
   "source": []
  }
 ],
 "metadata": {
  "kernelspec": {
   "display_name": "Python 3 (ipykernel)",
   "language": "python",
   "name": "python3"
  },
  "language_info": {
   "codemirror_mode": {
    "name": "ipython",
    "version": 3
   },
   "file_extension": ".py",
   "mimetype": "text/x-python",
   "name": "python",
   "nbconvert_exporter": "python",
   "pygments_lexer": "ipython3",
   "version": "3.11.3"
  }
 },
 "nbformat": 4,
 "nbformat_minor": 5
}
