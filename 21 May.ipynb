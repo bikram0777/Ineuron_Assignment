{
 "cells": [
  {
   "cell_type": "code",
   "execution_count": null,
   "id": "d251a8ab",
   "metadata": {},
   "outputs": [],
   "source": [
    "Q.1. Create two int type variables, apply addition, subtraction, division and multiplications\n",
    "and store the results in variables. Then print the data in the following format by calling the\n",
    "variables:\n",
    "First variable is __ & second variable is __.\n",
    "Addition: __ + __ = __\n",
    "Subtraction: __ - __ = __\n",
    "Multiplication: __ * __ = __\n",
    "Division: __ / __ = __"
   ]
  },
  {
   "cell_type": "code",
   "execution_count": 5,
   "id": "ea9f41cd",
   "metadata": {},
   "outputs": [
    {
     "name": "stdout",
     "output_type": "stream",
     "text": [
      "first variable is 5 & second variable is 7\n",
      " Addition: 5 + 7 = 12\n",
      " Subtraction: 5 - 7 = -2\n",
      " Multiplication: 5 * 7 = 35\n",
      " Division: 5 / 7 = 0.7142857142857143\n"
     ]
    }
   ],
   "source": [
    "a=5\n",
    "b=7\n",
    "print(f\"first variable is {a} & second variable is {b}\")\n",
    "print(f\" Addition: {a} + {b} = {a+b}\")\n",
    "print(f\" Subtraction: {a} - {b} = {a-b}\")\n",
    "print(f\" Multiplication: {a} * {b} = {a*b}\")\n",
    "print(f\" Division: {a} / {b} = {a/b}\")"
   ]
  },
  {
   "cell_type": "code",
   "execution_count": null,
   "id": "beb04ae3",
   "metadata": {},
   "outputs": [],
   "source": [
    "Q.2. What is the difference between the following operators:\n",
    "(i) ‘/’ & ‘//’\n",
    "(ii) ‘**’ & ‘^’"
   ]
  },
  {
   "cell_type": "code",
   "execution_count": null,
   "id": "dc4bc3e3",
   "metadata": {},
   "outputs": [],
   "source": [
    "'/' performs division while '//' performs integer division(floor division)\n"
   ]
  },
  {
   "cell_type": "code",
   "execution_count": 7,
   "id": "1598326d",
   "metadata": {},
   "outputs": [
    {
     "name": "stdout",
     "output_type": "stream",
     "text": [
      "c=1.4\n",
      "d=1\n"
     ]
    }
   ],
   "source": [
    "c=b/a\n",
    "print(f\"c={c}\")\n",
    "d=b//a\n",
    "print(f\"d={d}\")"
   ]
  },
  {
   "cell_type": "code",
   "execution_count": null,
   "id": "3b22da74",
   "metadata": {},
   "outputs": [],
   "source": [
    "'**' performs exponention.eg 2**3=8\n",
    "'^' performs bitwise XOR operation\n"
   ]
  },
  {
   "cell_type": "code",
   "execution_count": 10,
   "id": "0383b90b",
   "metadata": {},
   "outputs": [
    {
     "data": {
      "text/plain": [
       "2"
      ]
     },
     "execution_count": 10,
     "metadata": {},
     "output_type": "execute_result"
    }
   ],
   "source": [
    "5^7"
   ]
  },
  {
   "cell_type": "code",
   "execution_count": null,
   "id": "af37b0e6",
   "metadata": {},
   "outputs": [],
   "source": [
    "Q.3. List the logical operators."
   ]
  },
  {
   "cell_type": "code",
   "execution_count": null,
   "id": "c957612a",
   "metadata": {},
   "outputs": [],
   "source": [
    "the logical operators are \n",
    "AND \n",
    "OR\n",
    "NOT"
   ]
  },
  {
   "cell_type": "code",
   "execution_count": null,
   "id": "51bbfd36",
   "metadata": {},
   "outputs": [],
   "source": [
    "Q.4. Explain right shift operator and left shift operator with examples."
   ]
  },
  {
   "cell_type": "code",
   "execution_count": null,
   "id": "0afe0f80",
   "metadata": {},
   "outputs": [],
   "source": [
    "\n",
    "The right shift operator (>>) and left shift operator (<<) are bitwise operators in Python. \n",
    "They are used to shift the bits of a number to the right or left by a specified number of positions."
   ]
  },
  {
   "cell_type": "code",
   "execution_count": 13,
   "id": "6b8a1d99",
   "metadata": {},
   "outputs": [
    {
     "data": {
      "text/plain": [
       "40"
      ]
     },
     "execution_count": 13,
     "metadata": {},
     "output_type": "execute_result"
    }
   ],
   "source": [
    "#eg\n",
    "10<<2\n",
    "description:\n",
    "    10=1010\n",
    "    left shift by 2\n",
    "        101000"
   ]
  },
  {
   "cell_type": "code",
   "execution_count": 14,
   "id": "eda02eca",
   "metadata": {},
   "outputs": [
    {
     "data": {
      "text/plain": [
       "2"
      ]
     },
     "execution_count": 14,
     "metadata": {},
     "output_type": "execute_result"
    }
   ],
   "source": [
    "10>>2\n",
    "1010 right shift by 2\n",
    "10"
   ]
  },
  {
   "cell_type": "code",
   "execution_count": null,
   "id": "30c345e3",
   "metadata": {},
   "outputs": [],
   "source": [
    "Q.5. Create a list containing int type data of length 15. Then write a code to check if 10 is\n",
    "present in the list or not"
   ]
  },
  {
   "cell_type": "code",
   "execution_count": 23,
   "id": "ec3fabe1",
   "metadata": {},
   "outputs": [],
   "source": [
    "my_list=[1,2,3,4,5,6,7,8,9,10,23,34,34,56,23]"
   ]
  },
  {
   "cell_type": "code",
   "execution_count": 24,
   "id": "25582860",
   "metadata": {},
   "outputs": [
    {
     "data": {
      "text/plain": [
       "15"
      ]
     },
     "execution_count": 24,
     "metadata": {},
     "output_type": "execute_result"
    }
   ],
   "source": [
    "len(my_list)"
   ]
  },
  {
   "cell_type": "code",
   "execution_count": 28,
   "id": "03cd5aae",
   "metadata": {},
   "outputs": [
    {
     "name": "stdout",
     "output_type": "stream",
     "text": [
      "10 is present at location 10\n"
     ]
    }
   ],
   "source": [
    "key=10\n",
    "index=-1\n",
    "for i in my_list:\n",
    "    if i==key:\n",
    "        index=i\n",
    "   \n",
    "if index ==-1:\n",
    "    print(f\"{key } is not present\")\n",
    "else:\n",
    "    print(f\"{key } is present at location {index}\")"
   ]
  },
  {
   "cell_type": "code",
   "execution_count": null,
   "id": "8cb688be",
   "metadata": {},
   "outputs": [],
   "source": []
  }
 ],
 "metadata": {
  "kernelspec": {
   "display_name": "Python 3 (ipykernel)",
   "language": "python",
   "name": "python3"
  },
  "language_info": {
   "codemirror_mode": {
    "name": "ipython",
    "version": 3
   },
   "file_extension": ".py",
   "mimetype": "text/x-python",
   "name": "python",
   "nbconvert_exporter": "python",
   "pygments_lexer": "ipython3",
   "version": "3.11.3"
  }
 },
 "nbformat": 4,
 "nbformat_minor": 5
}
